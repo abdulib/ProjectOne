{
 "cells": [
  {
   "cell_type": "code",
   "execution_count": 1,
   "metadata": {},
   "outputs": [],
   "source": [
    "#%matplotlib inline\n",
    "\n",
    "#import dependecies\n",
    "import matplotlib.pyplot as plt\n",
    "import pandas as pd\n",
    "import numpy as np\n"
   ]
  },
  {
   "cell_type": "code",
   "execution_count": 2,
   "metadata": {},
   "outputs": [
    {
     "name": "stderr",
     "output_type": "stream",
     "text": [
      "/anaconda3/lib/python3.7/site-packages/IPython/core/interactiveshell.py:2785: DtypeWarning: Columns (3) have mixed types. Specify dtype option on import or set low_memory=False.\n",
      "  interactivity=interactivity, compiler=compiler, result=result)\n"
     ]
    },
    {
     "data": {
      "text/html": [
       "<div>\n",
       "<style scoped>\n",
       "    .dataframe tbody tr th:only-of-type {\n",
       "        vertical-align: middle;\n",
       "    }\n",
       "\n",
       "    .dataframe tbody tr th {\n",
       "        vertical-align: top;\n",
       "    }\n",
       "\n",
       "    .dataframe thead th {\n",
       "        text-align: right;\n",
       "    }\n",
       "</style>\n",
       "<table border=\"1\" class=\"dataframe\">\n",
       "  <thead>\n",
       "    <tr style=\"text-align: right;\">\n",
       "      <th></th>\n",
       "      <th>DATE</th>\n",
       "      <th>TIME</th>\n",
       "      <th>BOROUGH</th>\n",
       "      <th>ZIP CODE</th>\n",
       "      <th>LATITUDE</th>\n",
       "      <th>LONGITUDE</th>\n",
       "      <th>LOCATION</th>\n",
       "      <th>ON STREET NAME</th>\n",
       "      <th>CROSS STREET NAME</th>\n",
       "      <th>OFF STREET NAME</th>\n",
       "      <th>...</th>\n",
       "      <th>CONTRIBUTING FACTOR VEHICLE 2</th>\n",
       "      <th>CONTRIBUTING FACTOR VEHICLE 3</th>\n",
       "      <th>CONTRIBUTING FACTOR VEHICLE 4</th>\n",
       "      <th>CONTRIBUTING FACTOR VEHICLE 5</th>\n",
       "      <th>UNIQUE KEY</th>\n",
       "      <th>VEHICLE TYPE CODE 1</th>\n",
       "      <th>VEHICLE TYPE CODE 2</th>\n",
       "      <th>VEHICLE TYPE CODE 3</th>\n",
       "      <th>VEHICLE TYPE CODE 4</th>\n",
       "      <th>VEHICLE TYPE CODE 5</th>\n",
       "    </tr>\n",
       "  </thead>\n",
       "  <tbody>\n",
       "    <tr>\n",
       "      <th>0</th>\n",
       "      <td>03/16/2019</td>\n",
       "      <td>0:00</td>\n",
       "      <td>BROOKLYN</td>\n",
       "      <td>11208</td>\n",
       "      <td>40.681927</td>\n",
       "      <td>-73.870720</td>\n",
       "      <td>(40.681927, -73.87072)</td>\n",
       "      <td>ATLANTIC AVENUE</td>\n",
       "      <td>HEMLOCK STREET</td>\n",
       "      <td>NaN</td>\n",
       "      <td>...</td>\n",
       "      <td>NaN</td>\n",
       "      <td>NaN</td>\n",
       "      <td>NaN</td>\n",
       "      <td>NaN</td>\n",
       "      <td>4098779</td>\n",
       "      <td>Station Wagon/Sport Utility Vehicle</td>\n",
       "      <td>NaN</td>\n",
       "      <td>NaN</td>\n",
       "      <td>NaN</td>\n",
       "      <td>NaN</td>\n",
       "    </tr>\n",
       "    <tr>\n",
       "      <th>1</th>\n",
       "      <td>03/16/2019</td>\n",
       "      <td>0:00</td>\n",
       "      <td>MANHATTAN</td>\n",
       "      <td>10016</td>\n",
       "      <td>40.749100</td>\n",
       "      <td>-73.984085</td>\n",
       "      <td>(40.7491, -73.984085)</td>\n",
       "      <td>5 AVENUE</td>\n",
       "      <td>WEST 35 STREET</td>\n",
       "      <td>NaN</td>\n",
       "      <td>...</td>\n",
       "      <td>Driver Inattention/Distraction</td>\n",
       "      <td>NaN</td>\n",
       "      <td>NaN</td>\n",
       "      <td>NaN</td>\n",
       "      <td>4097559</td>\n",
       "      <td>Sedan</td>\n",
       "      <td>Garbage or Refuse</td>\n",
       "      <td>NaN</td>\n",
       "      <td>NaN</td>\n",
       "      <td>NaN</td>\n",
       "    </tr>\n",
       "    <tr>\n",
       "      <th>2</th>\n",
       "      <td>03/16/2019</td>\n",
       "      <td>0:00</td>\n",
       "      <td>QUEENS</td>\n",
       "      <td>11412</td>\n",
       "      <td>40.696064</td>\n",
       "      <td>-73.763084</td>\n",
       "      <td>(40.696064, -73.763084)</td>\n",
       "      <td>MEXICO STREET</td>\n",
       "      <td>DORMANS ROAD</td>\n",
       "      <td>NaN</td>\n",
       "      <td>...</td>\n",
       "      <td>Unspecified</td>\n",
       "      <td>NaN</td>\n",
       "      <td>NaN</td>\n",
       "      <td>NaN</td>\n",
       "      <td>4098023</td>\n",
       "      <td>Sedan</td>\n",
       "      <td>Sedan</td>\n",
       "      <td>NaN</td>\n",
       "      <td>NaN</td>\n",
       "      <td>NaN</td>\n",
       "    </tr>\n",
       "    <tr>\n",
       "      <th>3</th>\n",
       "      <td>03/16/2019</td>\n",
       "      <td>0:00</td>\n",
       "      <td>NaN</td>\n",
       "      <td>NaN</td>\n",
       "      <td>40.841843</td>\n",
       "      <td>-73.945390</td>\n",
       "      <td>(40.841843, -73.94539)</td>\n",
       "      <td>HENRY HUDSON PARKWAY</td>\n",
       "      <td>NaN</td>\n",
       "      <td>NaN</td>\n",
       "      <td>...</td>\n",
       "      <td>Unspecified</td>\n",
       "      <td>NaN</td>\n",
       "      <td>NaN</td>\n",
       "      <td>NaN</td>\n",
       "      <td>4098377</td>\n",
       "      <td>Sedan</td>\n",
       "      <td>Taxi</td>\n",
       "      <td>NaN</td>\n",
       "      <td>NaN</td>\n",
       "      <td>NaN</td>\n",
       "    </tr>\n",
       "    <tr>\n",
       "      <th>4</th>\n",
       "      <td>03/16/2019</td>\n",
       "      <td>0:00</td>\n",
       "      <td>BRONX</td>\n",
       "      <td>10451</td>\n",
       "      <td>40.811733</td>\n",
       "      <td>-73.926700</td>\n",
       "      <td>(40.811733, -73.9267)</td>\n",
       "      <td>MORRIS AVENUE</td>\n",
       "      <td>EAST 139 STREET</td>\n",
       "      <td>NaN</td>\n",
       "      <td>...</td>\n",
       "      <td>Unspecified</td>\n",
       "      <td>NaN</td>\n",
       "      <td>NaN</td>\n",
       "      <td>NaN</td>\n",
       "      <td>4097667</td>\n",
       "      <td>Sedan</td>\n",
       "      <td>Sedan</td>\n",
       "      <td>NaN</td>\n",
       "      <td>NaN</td>\n",
       "      <td>NaN</td>\n",
       "    </tr>\n",
       "  </tbody>\n",
       "</table>\n",
       "<p>5 rows × 29 columns</p>\n",
       "</div>"
      ],
      "text/plain": [
       "         DATE  TIME    BOROUGH ZIP CODE   LATITUDE  LONGITUDE  \\\n",
       "0  03/16/2019  0:00   BROOKLYN    11208  40.681927 -73.870720   \n",
       "1  03/16/2019  0:00  MANHATTAN    10016  40.749100 -73.984085   \n",
       "2  03/16/2019  0:00     QUEENS    11412  40.696064 -73.763084   \n",
       "3  03/16/2019  0:00        NaN      NaN  40.841843 -73.945390   \n",
       "4  03/16/2019  0:00      BRONX    10451  40.811733 -73.926700   \n",
       "\n",
       "                  LOCATION                    ON STREET NAME  \\\n",
       "0   (40.681927, -73.87072)  ATLANTIC AVENUE                    \n",
       "1    (40.7491, -73.984085)  5 AVENUE                           \n",
       "2  (40.696064, -73.763084)  MEXICO STREET                      \n",
       "3   (40.841843, -73.94539)  HENRY HUDSON PARKWAY               \n",
       "4    (40.811733, -73.9267)  MORRIS AVENUE                      \n",
       "\n",
       "  CROSS STREET NAME OFF STREET NAME         ...          \\\n",
       "0    HEMLOCK STREET             NaN         ...           \n",
       "1    WEST 35 STREET             NaN         ...           \n",
       "2      DORMANS ROAD             NaN         ...           \n",
       "3               NaN             NaN         ...           \n",
       "4   EAST 139 STREET             NaN         ...           \n",
       "\n",
       "    CONTRIBUTING FACTOR VEHICLE 2  CONTRIBUTING FACTOR VEHICLE 3  \\\n",
       "0                             NaN                            NaN   \n",
       "1  Driver Inattention/Distraction                            NaN   \n",
       "2                     Unspecified                            NaN   \n",
       "3                     Unspecified                            NaN   \n",
       "4                     Unspecified                            NaN   \n",
       "\n",
       "   CONTRIBUTING FACTOR VEHICLE 4  CONTRIBUTING FACTOR VEHICLE 5  UNIQUE KEY  \\\n",
       "0                            NaN                            NaN     4098779   \n",
       "1                            NaN                            NaN     4097559   \n",
       "2                            NaN                            NaN     4098023   \n",
       "3                            NaN                            NaN     4098377   \n",
       "4                            NaN                            NaN     4097667   \n",
       "\n",
       "                   VEHICLE TYPE CODE 1  VEHICLE TYPE CODE 2  \\\n",
       "0  Station Wagon/Sport Utility Vehicle                  NaN   \n",
       "1                                Sedan    Garbage or Refuse   \n",
       "2                                Sedan                Sedan   \n",
       "3                                Sedan                 Taxi   \n",
       "4                                Sedan                Sedan   \n",
       "\n",
       "   VEHICLE TYPE CODE 3 VEHICLE TYPE CODE 4 VEHICLE TYPE CODE 5  \n",
       "0                  NaN                 NaN                 NaN  \n",
       "1                  NaN                 NaN                 NaN  \n",
       "2                  NaN                 NaN                 NaN  \n",
       "3                  NaN                 NaN                 NaN  \n",
       "4                  NaN                 NaN                 NaN  \n",
       "\n",
       "[5 rows x 29 columns]"
      ]
     },
     "execution_count": 2,
     "metadata": {},
     "output_type": "execute_result"
    }
   ],
   "source": [
    "raw_data = '../data/rawdata/NYPD_Motor_Vehicle_Collisions.csv'\n",
    "\n",
    "nyc_data = pd.read_csv(raw_data)\n",
    "\n",
    "nyc_data.head()"
   ]
  },
  {
   "cell_type": "code",
   "execution_count": 3,
   "metadata": {},
   "outputs": [
    {
     "data": {
      "text/plain": [
       "Index(['DATE', 'TIME', 'BOROUGH', 'ZIP CODE', 'LATITUDE', 'LONGITUDE',\n",
       "       'LOCATION', 'ON STREET NAME', 'CROSS STREET NAME', 'OFF STREET NAME',\n",
       "       'NUMBER OF PERSONS INJURED', 'NUMBER OF PERSONS KILLED',\n",
       "       'NUMBER OF PEDESTRIANS INJURED', 'NUMBER OF PEDESTRIANS KILLED',\n",
       "       'NUMBER OF CYCLIST INJURED', 'NUMBER OF CYCLIST KILLED',\n",
       "       'NUMBER OF MOTORIST INJURED', 'NUMBER OF MOTORIST KILLED',\n",
       "       'CONTRIBUTING FACTOR VEHICLE 1', 'CONTRIBUTING FACTOR VEHICLE 2',\n",
       "       'CONTRIBUTING FACTOR VEHICLE 3', 'CONTRIBUTING FACTOR VEHICLE 4',\n",
       "       'CONTRIBUTING FACTOR VEHICLE 5', 'UNIQUE KEY', 'VEHICLE TYPE CODE 1',\n",
       "       'VEHICLE TYPE CODE 2', 'VEHICLE TYPE CODE 3', 'VEHICLE TYPE CODE 4',\n",
       "       'VEHICLE TYPE CODE 5'],\n",
       "      dtype='object')"
      ]
     },
     "execution_count": 3,
     "metadata": {},
     "output_type": "execute_result"
    }
   ],
   "source": [
    "nyc_data.columns"
   ]
  },
  {
   "cell_type": "code",
   "execution_count": null,
   "metadata": {},
   "outputs": [],
   "source": [
    "#Examine data columns\n",
    "#nyc_data.nunique()"
   ]
  },
  {
   "cell_type": "markdown",
   "metadata": {},
   "source": [
    "## Notes on some of the questions we need to ask/answer?\n",
    "* Where do car crashes happen in NYC?\n",
    "* When do they happen?\n",
    "* What are the common characteristics of crashes?\n",
    "* Does the weather condition contribute to car crashes?\n",
    "* Total number of accidents\n",
    "* % of killed or injured by total\n",
    "* Investigations into the increase and decrease in collisions in various boughs and why?\n",
    "* difference in collisions by seasons \n",
    "* most dangerous, borough, ZIpcode, Street, car type, time to drive, weather(temperature and visibility level )\n",
    "* safest borough, Zipcode, Street, car type and time to drive, weather(temperature and visibility level )\n",
    "* Extreme weather events in nyc and how they affected collisions - case study\n",
    "* group collisions by, day, hour, weekday, contributing factor (Distractions, Poor Driving, Physical alignment, Driving Under Influence, Car Defects, Outside influence)\n",
    "* Note: view maps by buroghs, (motorists, cyclist, pedestrians)\n",
    "\n"
   ]
  },
  {
   "cell_type": "code",
   "execution_count": 4,
   "metadata": {},
   "outputs": [
    {
     "data": {
      "text/plain": [
       "DATE                              object\n",
       "TIME                              object\n",
       "BOROUGH                           object\n",
       "ZIP CODE                          object\n",
       "LATITUDE                         float64\n",
       "LONGITUDE                        float64\n",
       "LOCATION                          object\n",
       "ON STREET NAME                    object\n",
       "CROSS STREET NAME                 object\n",
       "OFF STREET NAME                   object\n",
       "NUMBER OF PERSONS INJURED        float64\n",
       "NUMBER OF PERSONS KILLED         float64\n",
       "NUMBER OF PEDESTRIANS INJURED      int64\n",
       "NUMBER OF PEDESTRIANS KILLED       int64\n",
       "NUMBER OF CYCLIST INJURED          int64\n",
       "NUMBER OF CYCLIST KILLED           int64\n",
       "NUMBER OF MOTORIST INJURED         int64\n",
       "NUMBER OF MOTORIST KILLED          int64\n",
       "CONTRIBUTING FACTOR VEHICLE 1     object\n",
       "CONTRIBUTING FACTOR VEHICLE 2     object\n",
       "CONTRIBUTING FACTOR VEHICLE 3     object\n",
       "CONTRIBUTING FACTOR VEHICLE 4     object\n",
       "CONTRIBUTING FACTOR VEHICLE 5     object\n",
       "UNIQUE KEY                         int64\n",
       "VEHICLE TYPE CODE 1               object\n",
       "VEHICLE TYPE CODE 2               object\n",
       "VEHICLE TYPE CODE 3               object\n",
       "VEHICLE TYPE CODE 4               object\n",
       "VEHICLE TYPE CODE 5               object\n",
       "dtype: object"
      ]
     },
     "execution_count": 4,
     "metadata": {},
     "output_type": "execute_result"
    }
   ],
   "source": [
    "#check data types\n",
    "nyc_data.dtypes"
   ]
  },
  {
   "cell_type": "code",
   "execution_count": null,
   "metadata": {
    "scrolled": true
   },
   "outputs": [],
   "source": [
    "#nyc_data.fillna(0)\n",
    "\n"
   ]
  },
  {
   "cell_type": "code",
   "execution_count": 5,
   "metadata": {},
   "outputs": [
    {
     "data": {
      "text/html": [
       "<div>\n",
       "<style scoped>\n",
       "    .dataframe tbody tr th:only-of-type {\n",
       "        vertical-align: middle;\n",
       "    }\n",
       "\n",
       "    .dataframe tbody tr th {\n",
       "        vertical-align: top;\n",
       "    }\n",
       "\n",
       "    .dataframe thead th {\n",
       "        text-align: right;\n",
       "    }\n",
       "</style>\n",
       "<table border=\"1\" class=\"dataframe\">\n",
       "  <thead>\n",
       "    <tr style=\"text-align: right;\">\n",
       "      <th></th>\n",
       "      <th>DATE</th>\n",
       "      <th>TIME</th>\n",
       "      <th>BOROUGH</th>\n",
       "      <th>ZIP CODE</th>\n",
       "      <th>LATITUDE</th>\n",
       "      <th>LONGITUDE</th>\n",
       "      <th>LOCATION</th>\n",
       "      <th>ON STREET NAME</th>\n",
       "      <th>CROSS STREET NAME</th>\n",
       "      <th>OFF STREET NAME</th>\n",
       "      <th>...</th>\n",
       "      <th>CONTRIBUTING FACTOR VEHICLE 4</th>\n",
       "      <th>CONTRIBUTING FACTOR VEHICLE 5</th>\n",
       "      <th>UNIQUE KEY</th>\n",
       "      <th>VEHICLE TYPE CODE 1</th>\n",
       "      <th>VEHICLE TYPE CODE 2</th>\n",
       "      <th>VEHICLE TYPE CODE 3</th>\n",
       "      <th>VEHICLE TYPE CODE 4</th>\n",
       "      <th>VEHICLE TYPE CODE 5</th>\n",
       "      <th>DEATHS</th>\n",
       "      <th>INJURIES</th>\n",
       "    </tr>\n",
       "  </thead>\n",
       "  <tbody>\n",
       "    <tr>\n",
       "      <th>0</th>\n",
       "      <td>03/16/2019</td>\n",
       "      <td>0:00</td>\n",
       "      <td>BROOKLYN</td>\n",
       "      <td>11208</td>\n",
       "      <td>40.681927</td>\n",
       "      <td>-73.870720</td>\n",
       "      <td>(40.681927, -73.87072)</td>\n",
       "      <td>ATLANTIC AVENUE</td>\n",
       "      <td>HEMLOCK STREET</td>\n",
       "      <td>NaN</td>\n",
       "      <td>...</td>\n",
       "      <td>NaN</td>\n",
       "      <td>NaN</td>\n",
       "      <td>4098779</td>\n",
       "      <td>Station Wagon/Sport Utility Vehicle</td>\n",
       "      <td>NaN</td>\n",
       "      <td>NaN</td>\n",
       "      <td>NaN</td>\n",
       "      <td>NaN</td>\n",
       "      <td>0.0</td>\n",
       "      <td>0</td>\n",
       "    </tr>\n",
       "    <tr>\n",
       "      <th>1</th>\n",
       "      <td>03/16/2019</td>\n",
       "      <td>0:00</td>\n",
       "      <td>MANHATTAN</td>\n",
       "      <td>10016</td>\n",
       "      <td>40.749100</td>\n",
       "      <td>-73.984085</td>\n",
       "      <td>(40.7491, -73.984085)</td>\n",
       "      <td>5 AVENUE</td>\n",
       "      <td>WEST 35 STREET</td>\n",
       "      <td>NaN</td>\n",
       "      <td>...</td>\n",
       "      <td>NaN</td>\n",
       "      <td>NaN</td>\n",
       "      <td>4097559</td>\n",
       "      <td>Sedan</td>\n",
       "      <td>Garbage or Refuse</td>\n",
       "      <td>NaN</td>\n",
       "      <td>NaN</td>\n",
       "      <td>NaN</td>\n",
       "      <td>0.0</td>\n",
       "      <td>0</td>\n",
       "    </tr>\n",
       "    <tr>\n",
       "      <th>2</th>\n",
       "      <td>03/16/2019</td>\n",
       "      <td>0:00</td>\n",
       "      <td>QUEENS</td>\n",
       "      <td>11412</td>\n",
       "      <td>40.696064</td>\n",
       "      <td>-73.763084</td>\n",
       "      <td>(40.696064, -73.763084)</td>\n",
       "      <td>MEXICO STREET</td>\n",
       "      <td>DORMANS ROAD</td>\n",
       "      <td>NaN</td>\n",
       "      <td>...</td>\n",
       "      <td>NaN</td>\n",
       "      <td>NaN</td>\n",
       "      <td>4098023</td>\n",
       "      <td>Sedan</td>\n",
       "      <td>Sedan</td>\n",
       "      <td>NaN</td>\n",
       "      <td>NaN</td>\n",
       "      <td>NaN</td>\n",
       "      <td>0.0</td>\n",
       "      <td>0</td>\n",
       "    </tr>\n",
       "    <tr>\n",
       "      <th>3</th>\n",
       "      <td>03/16/2019</td>\n",
       "      <td>0:00</td>\n",
       "      <td>NaN</td>\n",
       "      <td>NaN</td>\n",
       "      <td>40.841843</td>\n",
       "      <td>-73.945390</td>\n",
       "      <td>(40.841843, -73.94539)</td>\n",
       "      <td>HENRY HUDSON PARKWAY</td>\n",
       "      <td>NaN</td>\n",
       "      <td>NaN</td>\n",
       "      <td>...</td>\n",
       "      <td>NaN</td>\n",
       "      <td>NaN</td>\n",
       "      <td>4098377</td>\n",
       "      <td>Sedan</td>\n",
       "      <td>Taxi</td>\n",
       "      <td>NaN</td>\n",
       "      <td>NaN</td>\n",
       "      <td>NaN</td>\n",
       "      <td>0.0</td>\n",
       "      <td>0</td>\n",
       "    </tr>\n",
       "    <tr>\n",
       "      <th>4</th>\n",
       "      <td>03/16/2019</td>\n",
       "      <td>0:00</td>\n",
       "      <td>BRONX</td>\n",
       "      <td>10451</td>\n",
       "      <td>40.811733</td>\n",
       "      <td>-73.926700</td>\n",
       "      <td>(40.811733, -73.9267)</td>\n",
       "      <td>MORRIS AVENUE</td>\n",
       "      <td>EAST 139 STREET</td>\n",
       "      <td>NaN</td>\n",
       "      <td>...</td>\n",
       "      <td>NaN</td>\n",
       "      <td>NaN</td>\n",
       "      <td>4097667</td>\n",
       "      <td>Sedan</td>\n",
       "      <td>Sedan</td>\n",
       "      <td>NaN</td>\n",
       "      <td>NaN</td>\n",
       "      <td>NaN</td>\n",
       "      <td>0.0</td>\n",
       "      <td>1</td>\n",
       "    </tr>\n",
       "  </tbody>\n",
       "</table>\n",
       "<p>5 rows × 31 columns</p>\n",
       "</div>"
      ],
      "text/plain": [
       "         DATE  TIME    BOROUGH ZIP CODE   LATITUDE  LONGITUDE  \\\n",
       "0  03/16/2019  0:00   BROOKLYN    11208  40.681927 -73.870720   \n",
       "1  03/16/2019  0:00  MANHATTAN    10016  40.749100 -73.984085   \n",
       "2  03/16/2019  0:00     QUEENS    11412  40.696064 -73.763084   \n",
       "3  03/16/2019  0:00        NaN      NaN  40.841843 -73.945390   \n",
       "4  03/16/2019  0:00      BRONX    10451  40.811733 -73.926700   \n",
       "\n",
       "                  LOCATION                    ON STREET NAME  \\\n",
       "0   (40.681927, -73.87072)  ATLANTIC AVENUE                    \n",
       "1    (40.7491, -73.984085)  5 AVENUE                           \n",
       "2  (40.696064, -73.763084)  MEXICO STREET                      \n",
       "3   (40.841843, -73.94539)  HENRY HUDSON PARKWAY               \n",
       "4    (40.811733, -73.9267)  MORRIS AVENUE                      \n",
       "\n",
       "  CROSS STREET NAME OFF STREET NAME   ...     CONTRIBUTING FACTOR VEHICLE 4  \\\n",
       "0    HEMLOCK STREET             NaN   ...                               NaN   \n",
       "1    WEST 35 STREET             NaN   ...                               NaN   \n",
       "2      DORMANS ROAD             NaN   ...                               NaN   \n",
       "3               NaN             NaN   ...                               NaN   \n",
       "4   EAST 139 STREET             NaN   ...                               NaN   \n",
       "\n",
       "   CONTRIBUTING FACTOR VEHICLE 5  UNIQUE KEY  \\\n",
       "0                            NaN     4098779   \n",
       "1                            NaN     4097559   \n",
       "2                            NaN     4098023   \n",
       "3                            NaN     4098377   \n",
       "4                            NaN     4097667   \n",
       "\n",
       "                   VEHICLE TYPE CODE 1  VEHICLE TYPE CODE 2  \\\n",
       "0  Station Wagon/Sport Utility Vehicle                  NaN   \n",
       "1                                Sedan    Garbage or Refuse   \n",
       "2                                Sedan                Sedan   \n",
       "3                                Sedan                 Taxi   \n",
       "4                                Sedan                Sedan   \n",
       "\n",
       "   VEHICLE TYPE CODE 3  VEHICLE TYPE CODE 4  VEHICLE TYPE CODE 5 DEATHS  \\\n",
       "0                  NaN                  NaN                  NaN    0.0   \n",
       "1                  NaN                  NaN                  NaN    0.0   \n",
       "2                  NaN                  NaN                  NaN    0.0   \n",
       "3                  NaN                  NaN                  NaN    0.0   \n",
       "4                  NaN                  NaN                  NaN    0.0   \n",
       "\n",
       "  INJURIES  \n",
       "0        0  \n",
       "1        0  \n",
       "2        0  \n",
       "3        0  \n",
       "4        1  \n",
       "\n",
       "[5 rows x 31 columns]"
      ]
     },
     "execution_count": 5,
     "metadata": {},
     "output_type": "execute_result"
    }
   ],
   "source": [
    "#calculate totals of columns for deaths and injurues \n",
    "nyc_data[\"DEATHS\"] = nyc_data[\"NUMBER OF PERSONS KILLED\"] + nyc_data[\"NUMBER OF PEDESTRIANS KILLED\"] + \\\n",
    "                    nyc_data[\"NUMBER OF CYCLIST KILLED\"] + nyc_data[\"NUMBER OF MOTORIST KILLED\"]\n",
    "\n",
    "nyc_data[\"INJURIES\"] = nyc_data[\"NUMBER OF PEDESTRIANS INJURED\"] + nyc_data[\"NUMBER OF CYCLIST INJURED\"] \\\n",
    "                        + nyc_data[\"NUMBER OF MOTORIST INJURED\"]\n",
    "nyc_data.head()\n"
   ]
  },
  {
   "cell_type": "code",
   "execution_count": null,
   "metadata": {},
   "outputs": [],
   "source": [
    "#plot deaths and injuries burrows deaths"
   ]
  },
  {
   "cell_type": "code",
   "execution_count": 6,
   "metadata": {},
   "outputs": [
    {
     "data": {
      "text/html": [
       "<div>\n",
       "<style scoped>\n",
       "    .dataframe tbody tr th:only-of-type {\n",
       "        vertical-align: middle;\n",
       "    }\n",
       "\n",
       "    .dataframe tbody tr th {\n",
       "        vertical-align: top;\n",
       "    }\n",
       "\n",
       "    .dataframe thead th {\n",
       "        text-align: right;\n",
       "    }\n",
       "</style>\n",
       "<table border=\"1\" class=\"dataframe\">\n",
       "  <thead>\n",
       "    <tr style=\"text-align: right;\">\n",
       "      <th></th>\n",
       "      <th>BOROUGH</th>\n",
       "      <th>DEATHS</th>\n",
       "      <th>INJURIES</th>\n",
       "    </tr>\n",
       "  </thead>\n",
       "  <tbody>\n",
       "    <tr>\n",
       "      <th>0</th>\n",
       "      <td>BRONX</td>\n",
       "      <td>306.0</td>\n",
       "      <td>39948</td>\n",
       "    </tr>\n",
       "    <tr>\n",
       "      <th>1</th>\n",
       "      <td>BROOKLYN</td>\n",
       "      <td>713.0</td>\n",
       "      <td>91891</td>\n",
       "    </tr>\n",
       "    <tr>\n",
       "      <th>2</th>\n",
       "      <td>MANHATTAN</td>\n",
       "      <td>414.0</td>\n",
       "      <td>43207</td>\n",
       "    </tr>\n",
       "    <tr>\n",
       "      <th>3</th>\n",
       "      <td>QUEENS</td>\n",
       "      <td>668.0</td>\n",
       "      <td>70425</td>\n",
       "    </tr>\n",
       "    <tr>\n",
       "      <th>4</th>\n",
       "      <td>STATEN ISLAND</td>\n",
       "      <td>122.0</td>\n",
       "      <td>11148</td>\n",
       "    </tr>\n",
       "  </tbody>\n",
       "</table>\n",
       "</div>"
      ],
      "text/plain": [
       "         BOROUGH  DEATHS  INJURIES\n",
       "0          BRONX   306.0     39948\n",
       "1       BROOKLYN   713.0     91891\n",
       "2      MANHATTAN   414.0     43207\n",
       "3         QUEENS   668.0     70425\n",
       "4  STATEN ISLAND   122.0     11148"
      ]
     },
     "execution_count": 6,
     "metadata": {},
     "output_type": "execute_result"
    }
   ],
   "source": [
    "#Where do car crashes happen in NYC?\n",
    "\n",
    "#collisions by borough #\n",
    "collision_by_boroughs = nyc_data['BOROUGH'].value_counts()\n",
    "\n",
    "#calculate percentage of deaths and injuries\n",
    "#group by boroughs\n",
    "borough_gp = nyc_data.groupby('BOROUGH')\n",
    "\n",
    "borough_deaths = pd.DataFrame(borough_gp['DEATHS'].sum())\n",
    "#borough_deaths\n",
    "\n",
    "borough_injuries = pd.DataFrame(borough_gp['INJURIES'].sum())\n",
    "#borough_injuries\n",
    "\n",
    "deaths_n_injuries = borough_deaths.join(borough_injuries, how='left')\n",
    "\n",
    "deaths_n_injuries = deaths_n_injuries.reset_index()\n",
    "#tot_deaths = deaths_n_injuries['DEATHS'].sum()\n",
    "#tot_injuries = deaths_n_injuries['INJURIES'].sum()\n",
    "\n",
    "deaths_n_injuries\n",
    "\n"
   ]
  },
  {
   "cell_type": "code",
   "execution_count": 7,
   "metadata": {},
   "outputs": [],
   "source": [
    "#concat date and time columns for easy analysis\n",
    "nyc_data['COLLISION DATE'] = nyc_data['DATE'] + ' ' + nyc_data['TIME']\n",
    "#nyc_data.head()\n",
    "nyc_data['COLLISION DATE'] = pd.to_datetime(nyc_data['COLLISION DATE'])\n"
   ]
  },
  {
   "cell_type": "code",
   "execution_count": 8,
   "metadata": {},
   "outputs": [
    {
     "data": {
      "text/plain": [
       "DATE                                     object\n",
       "TIME                                     object\n",
       "BOROUGH                                  object\n",
       "ZIP CODE                                 object\n",
       "LATITUDE                                float64\n",
       "LONGITUDE                               float64\n",
       "LOCATION                                 object\n",
       "ON STREET NAME                           object\n",
       "CROSS STREET NAME                        object\n",
       "OFF STREET NAME                          object\n",
       "NUMBER OF PERSONS INJURED               float64\n",
       "NUMBER OF PERSONS KILLED                float64\n",
       "NUMBER OF PEDESTRIANS INJURED             int64\n",
       "NUMBER OF PEDESTRIANS KILLED              int64\n",
       "NUMBER OF CYCLIST INJURED                 int64\n",
       "NUMBER OF CYCLIST KILLED                  int64\n",
       "NUMBER OF MOTORIST INJURED                int64\n",
       "NUMBER OF MOTORIST KILLED                 int64\n",
       "CONTRIBUTING FACTOR VEHICLE 1            object\n",
       "CONTRIBUTING FACTOR VEHICLE 2            object\n",
       "CONTRIBUTING FACTOR VEHICLE 3            object\n",
       "CONTRIBUTING FACTOR VEHICLE 4            object\n",
       "CONTRIBUTING FACTOR VEHICLE 5            object\n",
       "UNIQUE KEY                                int64\n",
       "VEHICLE TYPE CODE 1                      object\n",
       "VEHICLE TYPE CODE 2                      object\n",
       "VEHICLE TYPE CODE 3                      object\n",
       "VEHICLE TYPE CODE 4                      object\n",
       "VEHICLE TYPE CODE 5                      object\n",
       "DEATHS                                  float64\n",
       "INJURIES                                  int64\n",
       "COLLISION DATE                   datetime64[ns]\n",
       "dtype: object"
      ]
     },
     "execution_count": 8,
     "metadata": {},
     "output_type": "execute_result"
    }
   ],
   "source": [
    "#check data types\n",
    "nyc_data.dtypes"
   ]
  },
  {
   "cell_type": "code",
   "execution_count": 20,
   "metadata": {},
   "outputs": [
    {
     "data": {
      "text/html": [
       "<div>\n",
       "<style scoped>\n",
       "    .dataframe tbody tr th:only-of-type {\n",
       "        vertical-align: middle;\n",
       "    }\n",
       "\n",
       "    .dataframe tbody tr th {\n",
       "        vertical-align: top;\n",
       "    }\n",
       "\n",
       "    .dataframe thead th {\n",
       "        text-align: right;\n",
       "    }\n",
       "</style>\n",
       "<table border=\"1\" class=\"dataframe\">\n",
       "  <thead>\n",
       "    <tr style=\"text-align: right;\">\n",
       "      <th></th>\n",
       "      <th>DATE</th>\n",
       "      <th>TIME</th>\n",
       "      <th>BOROUGH</th>\n",
       "      <th>ZIP CODE</th>\n",
       "      <th>LATITUDE</th>\n",
       "      <th>LONGITUDE</th>\n",
       "      <th>LOCATION</th>\n",
       "      <th>ON STREET NAME</th>\n",
       "      <th>CROSS STREET NAME</th>\n",
       "      <th>OFF STREET NAME</th>\n",
       "      <th>...</th>\n",
       "      <th>VEHICLE TYPE CODE 4</th>\n",
       "      <th>VEHICLE TYPE CODE 5</th>\n",
       "      <th>DEATHS</th>\n",
       "      <th>INJURIES</th>\n",
       "      <th>COLLISION DATE</th>\n",
       "      <th>Year</th>\n",
       "      <th>MONTH</th>\n",
       "      <th>YEAR</th>\n",
       "      <th>DAY</th>\n",
       "      <th>HOUR</th>\n",
       "    </tr>\n",
       "  </thead>\n",
       "  <tbody>\n",
       "    <tr>\n",
       "      <th>0</th>\n",
       "      <td>03/16/2019</td>\n",
       "      <td>0:00</td>\n",
       "      <td>BROOKLYN</td>\n",
       "      <td>11208</td>\n",
       "      <td>40.681927</td>\n",
       "      <td>-73.870720</td>\n",
       "      <td>(40.681927, -73.87072)</td>\n",
       "      <td>ATLANTIC AVENUE</td>\n",
       "      <td>HEMLOCK STREET</td>\n",
       "      <td>NaN</td>\n",
       "      <td>...</td>\n",
       "      <td>NaN</td>\n",
       "      <td>NaN</td>\n",
       "      <td>0.0</td>\n",
       "      <td>0</td>\n",
       "      <td>2019-03-16</td>\n",
       "      <td>2019</td>\n",
       "      <td>3</td>\n",
       "      <td>2019</td>\n",
       "      <td>Saturday</td>\n",
       "      <td>0</td>\n",
       "    </tr>\n",
       "    <tr>\n",
       "      <th>1</th>\n",
       "      <td>03/16/2019</td>\n",
       "      <td>0:00</td>\n",
       "      <td>MANHATTAN</td>\n",
       "      <td>10016</td>\n",
       "      <td>40.749100</td>\n",
       "      <td>-73.984085</td>\n",
       "      <td>(40.7491, -73.984085)</td>\n",
       "      <td>5 AVENUE</td>\n",
       "      <td>WEST 35 STREET</td>\n",
       "      <td>NaN</td>\n",
       "      <td>...</td>\n",
       "      <td>NaN</td>\n",
       "      <td>NaN</td>\n",
       "      <td>0.0</td>\n",
       "      <td>0</td>\n",
       "      <td>2019-03-16</td>\n",
       "      <td>2019</td>\n",
       "      <td>3</td>\n",
       "      <td>2019</td>\n",
       "      <td>Saturday</td>\n",
       "      <td>0</td>\n",
       "    </tr>\n",
       "    <tr>\n",
       "      <th>2</th>\n",
       "      <td>03/16/2019</td>\n",
       "      <td>0:00</td>\n",
       "      <td>QUEENS</td>\n",
       "      <td>11412</td>\n",
       "      <td>40.696064</td>\n",
       "      <td>-73.763084</td>\n",
       "      <td>(40.696064, -73.763084)</td>\n",
       "      <td>MEXICO STREET</td>\n",
       "      <td>DORMANS ROAD</td>\n",
       "      <td>NaN</td>\n",
       "      <td>...</td>\n",
       "      <td>NaN</td>\n",
       "      <td>NaN</td>\n",
       "      <td>0.0</td>\n",
       "      <td>0</td>\n",
       "      <td>2019-03-16</td>\n",
       "      <td>2019</td>\n",
       "      <td>3</td>\n",
       "      <td>2019</td>\n",
       "      <td>Saturday</td>\n",
       "      <td>0</td>\n",
       "    </tr>\n",
       "    <tr>\n",
       "      <th>3</th>\n",
       "      <td>03/16/2019</td>\n",
       "      <td>0:00</td>\n",
       "      <td>NaN</td>\n",
       "      <td>NaN</td>\n",
       "      <td>40.841843</td>\n",
       "      <td>-73.945390</td>\n",
       "      <td>(40.841843, -73.94539)</td>\n",
       "      <td>HENRY HUDSON PARKWAY</td>\n",
       "      <td>NaN</td>\n",
       "      <td>NaN</td>\n",
       "      <td>...</td>\n",
       "      <td>NaN</td>\n",
       "      <td>NaN</td>\n",
       "      <td>0.0</td>\n",
       "      <td>0</td>\n",
       "      <td>2019-03-16</td>\n",
       "      <td>2019</td>\n",
       "      <td>3</td>\n",
       "      <td>2019</td>\n",
       "      <td>Saturday</td>\n",
       "      <td>0</td>\n",
       "    </tr>\n",
       "    <tr>\n",
       "      <th>4</th>\n",
       "      <td>03/16/2019</td>\n",
       "      <td>0:00</td>\n",
       "      <td>BRONX</td>\n",
       "      <td>10451</td>\n",
       "      <td>40.811733</td>\n",
       "      <td>-73.926700</td>\n",
       "      <td>(40.811733, -73.9267)</td>\n",
       "      <td>MORRIS AVENUE</td>\n",
       "      <td>EAST 139 STREET</td>\n",
       "      <td>NaN</td>\n",
       "      <td>...</td>\n",
       "      <td>NaN</td>\n",
       "      <td>NaN</td>\n",
       "      <td>0.0</td>\n",
       "      <td>1</td>\n",
       "      <td>2019-03-16</td>\n",
       "      <td>2019</td>\n",
       "      <td>3</td>\n",
       "      <td>2019</td>\n",
       "      <td>Saturday</td>\n",
       "      <td>0</td>\n",
       "    </tr>\n",
       "  </tbody>\n",
       "</table>\n",
       "<p>5 rows × 37 columns</p>\n",
       "</div>"
      ],
      "text/plain": [
       "         DATE  TIME    BOROUGH ZIP CODE   LATITUDE  LONGITUDE  \\\n",
       "0  03/16/2019  0:00   BROOKLYN    11208  40.681927 -73.870720   \n",
       "1  03/16/2019  0:00  MANHATTAN    10016  40.749100 -73.984085   \n",
       "2  03/16/2019  0:00     QUEENS    11412  40.696064 -73.763084   \n",
       "3  03/16/2019  0:00        NaN      NaN  40.841843 -73.945390   \n",
       "4  03/16/2019  0:00      BRONX    10451  40.811733 -73.926700   \n",
       "\n",
       "                  LOCATION                    ON STREET NAME  \\\n",
       "0   (40.681927, -73.87072)  ATLANTIC AVENUE                    \n",
       "1    (40.7491, -73.984085)  5 AVENUE                           \n",
       "2  (40.696064, -73.763084)  MEXICO STREET                      \n",
       "3   (40.841843, -73.94539)  HENRY HUDSON PARKWAY               \n",
       "4    (40.811733, -73.9267)  MORRIS AVENUE                      \n",
       "\n",
       "  CROSS STREET NAME OFF STREET NAME ...   VEHICLE TYPE CODE 4  \\\n",
       "0    HEMLOCK STREET             NaN ...                   NaN   \n",
       "1    WEST 35 STREET             NaN ...                   NaN   \n",
       "2      DORMANS ROAD             NaN ...                   NaN   \n",
       "3               NaN             NaN ...                   NaN   \n",
       "4   EAST 139 STREET             NaN ...                   NaN   \n",
       "\n",
       "   VEHICLE TYPE CODE 5  DEATHS  INJURIES  COLLISION DATE  Year  MONTH  YEAR  \\\n",
       "0                  NaN     0.0         0      2019-03-16  2019      3  2019   \n",
       "1                  NaN     0.0         0      2019-03-16  2019      3  2019   \n",
       "2                  NaN     0.0         0      2019-03-16  2019      3  2019   \n",
       "3                  NaN     0.0         0      2019-03-16  2019      3  2019   \n",
       "4                  NaN     0.0         1      2019-03-16  2019      3  2019   \n",
       "\n",
       "        DAY HOUR  \n",
       "0  Saturday    0  \n",
       "1  Saturday    0  \n",
       "2  Saturday    0  \n",
       "3  Saturday    0  \n",
       "4  Saturday    0  \n",
       "\n",
       "[5 rows x 37 columns]"
      ]
     },
     "execution_count": 20,
     "metadata": {},
     "output_type": "execute_result"
    }
   ],
   "source": [
    "nyc_data['YEAR'] = nyc_data['COLLISION DATE'].dt.year\n",
    "nyc_data['MONTH'] = nyc_data['COLLISION DATE'].dt.month\n",
    "nyc_data['DAY'] = nyc_data['COLLISION DATE'].dt.weekday_name\n",
    "nyc_data['HOUR'] = nyc_data['COLLISION DATE'].dt.hour\n",
    "nyc_data.head()"
   ]
  },
  {
   "cell_type": "code",
   "execution_count": 33,
   "metadata": {},
   "outputs": [
    {
     "data": {
      "text/plain": [
       "2012    100541\n",
       "2013    203729\n",
       "2014    206029\n",
       "2015    217693\n",
       "2016    229784\n",
       "2017    230994\n",
       "2018    231435\n",
       "2019     41909\n",
       "Name: YEAR, dtype: int64"
      ]
     },
     "execution_count": 33,
     "metadata": {},
     "output_type": "execute_result"
    }
   ],
   "source": [
    "coll_by_yr = nyc_data['YEAR'].value_counts().sort_index()\n",
    "coll_by_yr"
   ]
  },
  {
   "cell_type": "code",
   "execution_count": 34,
   "metadata": {},
   "outputs": [
    {
     "data": {
      "text/plain": [
       "<matplotlib.axes._subplots.AxesSubplot at 0x1269e3630>"
      ]
     },
     "execution_count": 34,
     "metadata": {},
     "output_type": "execute_result"
    },
    {
     "data": {
      "image/png": "[encoded data removed]",
      "text/plain": [
       "<Figure size 432x288 with 1 Axes>"
      ]
     },
     "metadata": {
      "needs_background": "light"
     },
     "output_type": "display_data"
    }
   ],
   "source": [
    "coll_by_yr.plot()"
   ]
  },
  {
   "cell_type": "code",
   "execution_count": 35,
   "metadata": {},
   "outputs": [
    {
     "data": {
      "text/plain": [
       "1     119020\n",
       "2     109682\n",
       "3     116790\n",
       "4     104173\n",
       "5     118050\n",
       "6     118285\n",
       "7     130045\n",
       "8     128430\n",
       "9     128167\n",
       "10    133354\n",
       "11    127141\n",
       "12    128977\n",
       "Name: MONTH, dtype: int64"
      ]
     },
     "execution_count": 35,
     "metadata": {},
     "output_type": "execute_result"
    }
   ],
   "source": [
    "coll_by_mnt = nyc_data['MONTH'].value_counts().sort_index()\n",
    "coll_by_mnt"
   ]
  },
  {
   "cell_type": "code",
   "execution_count": 36,
   "metadata": {},
   "outputs": [
    {
     "data": {
      "text/plain": [
       "<matplotlib.axes._subplots.AxesSubplot at 0x1269ccc18>"
      ]
     },
     "execution_count": 36,
     "metadata": {},
     "output_type": "execute_result"
    },
    {
     "data": {
      "image/png": "[encoded data removed]",
      "text/plain": [
       "<Figure size 432x288 with 1 Axes>"
      ]
     },
     "metadata": {
      "needs_background": "light"
     },
     "output_type": "display_data"
    }
   ],
   "source": [
    "coll_by_mnt.plot()"
   ]
  },
  {
   "cell_type": "code",
   "execution_count": 37,
   "metadata": {},
   "outputs": [
    {
     "data": {
      "text/plain": [
       "Friday       234077\n",
       "Monday       209392\n",
       "Saturday     194265\n",
       "Sunday       171425\n",
       "Thursday     220243\n",
       "Tuesday      217331\n",
       "Wednesday    215381\n",
       "Name: DAY, dtype: int64"
      ]
     },
     "execution_count": 37,
     "metadata": {},
     "output_type": "execute_result"
    }
   ],
   "source": [
    "coll_by_wkday = nyc_data['DAY'].value_counts().sort_index()\n",
    "coll_by_wkday"
   ]
  },
  {
   "cell_type": "code",
   "execution_count": 38,
   "metadata": {},
   "outputs": [
    {
     "data": {
      "text/plain": [
       "<matplotlib.axes._subplots.AxesSubplot at 0x126933470>"
      ]
     },
     "execution_count": 38,
     "metadata": {},
     "output_type": "execute_result"
    },
    {
     "data": {
      "image/png": "[encoded data removed]",
      "text/plain": [
       "<Figure size 432x288 with 1 Axes>"
      ]
     },
     "metadata": {
      "needs_background": "light"
     },
     "output_type": "display_data"
    }
   ],
   "source": [
    "coll_by_wkday.plot()"
   ]
  },
  {
   "cell_type": "code",
   "execution_count": 39,
   "metadata": {},
   "outputs": [
    {
     "data": {
      "text/plain": [
       "0      41303\n",
       "1      22765\n",
       "2      17242\n",
       "3      14931\n",
       "4      17476\n",
       "5      19214\n",
       "6      30634\n",
       "7      42208\n",
       "8      82469\n",
       "9      81020\n",
       "10     74631\n",
       "11     77401\n",
       "12     81972\n",
       "13     86329\n",
       "14    100182\n",
       "15     91785\n",
       "16    108927\n",
       "17    105853\n",
       "18     92685\n",
       "19     75368\n",
       "20     62100\n",
       "21     51491\n",
       "22     46319\n",
       "23     37809\n",
       "Name: HOUR, dtype: int64"
      ]
     },
     "execution_count": 39,
     "metadata": {},
     "output_type": "execute_result"
    }
   ],
   "source": [
    "coll_by_hr = nyc_data['HOUR'].value_counts().sort_index()\n",
    "coll_by_hr"
   ]
  },
  {
   "cell_type": "code",
   "execution_count": 40,
   "metadata": {},
   "outputs": [
    {
     "data": {
      "text/plain": [
       "<matplotlib.axes._subplots.AxesSubplot at 0x1269004e0>"
      ]
     },
     "execution_count": 40,
     "metadata": {},
     "output_type": "execute_result"
    },
    {
     "data": {
      "image/png": "[encoded data removed]",
      "text/plain": [
       "<Figure size 432x288 with 1 Axes>"
      ]
     },
     "metadata": {
      "needs_background": "light"
     },
     "output_type": "display_data"
    }
   ],
   "source": [
    "coll_by_hr.plot()"
   ]
  },
  {
   "cell_type": "code",
   "execution_count": null,
   "metadata": {},
   "outputs": [],
   "source": [
    "#categorize and calulate category percentages contributing factor\n",
    "#nyc_data[\"CONTRIBUTING FACTOR VEHICLE 1\"].value_counts()"
   ]
  },
  {
   "cell_type": "code",
   "execution_count": null,
   "metadata": {},
   "outputs": [],
   "source": [
    "#nyc_data['DATE'].value_counts()\n",
    "nyc_data['DATE'].describe()"
   ]
  },
  {
   "cell_type": "code",
   "execution_count": null,
   "metadata": {},
   "outputs": [],
   "source": [
    "#nyc_data['ZIP CODE'].value_counts()"
   ]
  },
  {
   "cell_type": "code",
   "execution_count": null,
   "metadata": {},
   "outputs": [],
   "source": [
    "nyc_data['VEHICLE TYPE CODE 1'].value_counts()"
   ]
  },
  {
   "cell_type": "code",
   "execution_count": null,
   "metadata": {},
   "outputs": [],
   "source": [
    "nyc_data['VEHICLE TYPE CODE 2'].value_counts()"
   ]
  },
  {
   "cell_type": "code",
   "execution_count": null,
   "metadata": {},
   "outputs": [],
   "source": [
    "nyc_data['VEHICLE TYPE CODE 3'].value_counts()"
   ]
  },
  {
   "cell_type": "code",
   "execution_count": null,
   "metadata": {},
   "outputs": [],
   "source": [
    "nyc_data['TIME'].value_counts()"
   ]
  },
  {
   "cell_type": "code",
   "execution_count": null,
   "metadata": {},
   "outputs": [],
   "source": [
    "nyc_data['NUMBER OF PERSONS KILLED'].value_counts()"
   ]
  },
  {
   "cell_type": "code",
   "execution_count": null,
   "metadata": {},
   "outputs": [],
   "source": [
    "nyc_data['NUMBER OF PERSONS INJURED'].value_counts()"
   ]
  },
  {
   "cell_type": "code",
   "execution_count": null,
   "metadata": {},
   "outputs": [],
   "source": []
  }
 ],
 "metadata": {
  "kernelspec": {
   "display_name": "Python 3",
   "language": "python",
   "name": "python3"
  },
  "language_info": {
   "codemirror_mode": {
    "name": "ipython",
    "version": 3
   },
   "file_extension": ".py",
   "mimetype": "text/x-python",
   "name": "python",
   "nbconvert_exporter": "python",
   "pygments_lexer": "ipython3",
   "version": "3.7.2"
  }
 },
 "nbformat": 4,
 "nbformat_minor": 2
}
