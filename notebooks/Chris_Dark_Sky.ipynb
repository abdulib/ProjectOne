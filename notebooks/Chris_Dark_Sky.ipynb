{
 "cells": [
  {
   "cell_type": "code",
   "execution_count": 74,
   "metadata": {},
   "outputs": [],
   "source": [
    "import matplotlib.pyplot as plt\n",
    "import pandas as pd\n",
    "import numpy as np\n",
    "import os\n",
    "import json\n",
    "import requests\n",
    "import time"
   ]
  },
  {
   "cell_type": "markdown",
   "metadata": {},
   "source": [
    "# I created a csv file in rawdata called Unix_Time multiplying the previous time by (24 x 60 x 60)"
   ]
  },
  {
   "cell_type": "code",
   "execution_count": 75,
   "metadata": {},
   "outputs": [],
   "source": [
    "unix_time_csv = os.path.join(\"..\", \"data\", \"rawdata\", \"Unix_Time.csv\")\n",
    "\n",
    "csv = pd.read_csv(unix_time_csv, header=None, low_memory=False)"
   ]
  },
  {
   "cell_type": "code",
   "execution_count": 76,
   "metadata": {},
   "outputs": [
    {
     "data": {
      "text/html": [
       "<div>\n",
       "<style scoped>\n",
       "    .dataframe tbody tr th:only-of-type {\n",
       "        vertical-align: middle;\n",
       "    }\n",
       "\n",
       "    .dataframe tbody tr th {\n",
       "        vertical-align: top;\n",
       "    }\n",
       "\n",
       "    .dataframe thead th {\n",
       "        text-align: right;\n",
       "    }\n",
       "</style>\n",
       "<table border=\"1\" class=\"dataframe\">\n",
       "  <thead>\n",
       "    <tr style=\"text-align: right;\">\n",
       "      <th></th>\n",
       "      <th>Unix_Time</th>\n",
       "    </tr>\n",
       "  </thead>\n",
       "  <tbody>\n",
       "    <tr>\n",
       "      <th>0</th>\n",
       "      <td>1388512800</td>\n",
       "    </tr>\n",
       "    <tr>\n",
       "      <th>1</th>\n",
       "      <td>1388599200</td>\n",
       "    </tr>\n",
       "  </tbody>\n",
       "</table>\n",
       "</div>"
      ],
      "text/plain": [
       "    Unix_Time\n",
       "0  1388512800\n",
       "1  1388599200"
      ]
     },
     "execution_count": 76,
     "metadata": {},
     "output_type": "execute_result"
    }
   ],
   "source": [
    "unix_time_df = pd.DataFrame(csv)\n",
    "unix_time_df.columns = [\"Unix_Time\"]\n",
    "unix_time_df.head(2)"
   ]
  },
  {
   "cell_type": "code",
   "execution_count": 77,
   "metadata": {},
   "outputs": [
    {
     "data": {
      "text/plain": [
       "1908"
      ]
     },
     "execution_count": 77,
     "metadata": {},
     "output_type": "execute_result"
    }
   ],
   "source": [
    "len(unix_time_df)"
   ]
  },
  {
   "cell_type": "markdown",
   "metadata": {},
   "source": [
    "# Below change x in Count >= x to value less than 1000\n",
    "\n",
    "## (Ideally achieving len(unix_time_df) in two goes"
   ]
  },
  {
   "cell_type": "code",
   "execution_count": 78,
   "metadata": {},
   "outputs": [],
   "source": [
    "days = []\n",
    "\n",
    "count = 0\n",
    "\n",
    "for index, row in unix_time_df.iterrows():\n",
    "    days.append(row['Unix_Time'])\n",
    "    \n",
    "    if count >=1:\n",
    "        break\n",
    "    \n",
    "    count +=1"
   ]
  },
  {
   "cell_type": "code",
   "execution_count": 79,
   "metadata": {},
   "outputs": [
    {
     "data": {
      "text/plain": [
       "2"
      ]
     },
     "execution_count": 79,
     "metadata": {},
     "output_type": "execute_result"
    }
   ],
   "source": [
    "len(days)"
   ]
  },
  {
   "cell_type": "code",
   "execution_count": 80,
   "metadata": {},
   "outputs": [
    {
     "data": {
      "text/plain": [
       "[1388512800, 1388599200]"
      ]
     },
     "execution_count": 80,
     "metadata": {},
     "output_type": "execute_result"
    }
   ],
   "source": [
    "days"
   ]
  },
  {
   "cell_type": "code",
   "execution_count": 81,
   "metadata": {},
   "outputs": [
    {
     "data": {
      "text/plain": [
       "'Tue Dec 31 12:00:00 2013'"
      ]
     },
     "execution_count": 81,
     "metadata": {},
     "output_type": "execute_result"
    }
   ],
   "source": [
    "time.ctime(int(\"1388512800\"))"
   ]
  },
  {
   "cell_type": "code",
   "execution_count": 82,
   "metadata": {},
   "outputs": [
    {
     "data": {
      "text/plain": [
       "'12/31/13 12:00'"
      ]
     },
     "execution_count": 82,
     "metadata": {},
     "output_type": "execute_result"
    }
   ],
   "source": [
    "time.strftime(\"%D %H:%M\", time.localtime(int(\"1388512800\")))"
   ]
  },
  {
   "cell_type": "markdown",
   "metadata": {},
   "source": [
    "# Leaving the time entry as 'time' caused problems - 'time' is used elsewhere in python / pandas?\n",
    "\n",
    "# Either way to get the 'for' loop to run, 'time' (now called 'day') had to be called separately in the 'get request' as unlike weather maps, dark sky calls the 'time' in the middle rather than the end of the request:"
   ]
  },
  {
   "cell_type": "markdown",
   "metadata": {},
   "source": [
    "# Enter your DarkSky API key below"
   ]
  },
  {
   "cell_type": "code",
   "execution_count": 83,
   "metadata": {},
   "outputs": [],
   "source": [
    "lat = \"40.73\"\n",
    "lng = \"-73.99\"\n",
    "key = \"Your DarkSky API key goes here\"\n",
    "exclude = \"currently,flags,alerts,minutely,hourly\"\n",
    "units = \"us\"\n",
    "url = f'https://api.darksky.net/forecast/{key}/{lat},{lng}'"
   ]
  },
  {
   "cell_type": "markdown",
   "metadata": {},
   "source": [
    "# Because we have to retrieve data from a dictionary inside a list or is it a dictionary inside another list, recovering the response values was tricky;"
   ]
  },
  {
   "cell_type": "code",
   "execution_count": 84,
   "metadata": {},
   "outputs": [
    {
     "name": "stdout",
     "output_type": "stream",
     "text": [
      "Beginning Data Retrieval\n",
      "-------------------------------\n",
      "Processing Record 0 day |  1388512800\n",
      "Processing Record 1 day |  1388599200\n",
      "-------------------------------\n",
      "Data Retrieval Complete\n",
      "-------------------------------\n"
     ]
    }
   ],
   "source": [
    "darksky_data_1 = []\n",
    "\n",
    "count = 0\n",
    "\n",
    "\n",
    "print(\"Beginning Data Retrieval\")\n",
    "print(\"-------------------------------\")\n",
    "\n",
    "for day in days:\n",
    "    \n",
    "    response = requests.get(f\"{url},{day}?exclude={exclude}?units={units}\").json()\n",
    "    darksky_data_1.append({'Day' : day,\n",
    "                           'Summary' : response['daily']['data'][0]['summary'],\n",
    "                           'Detail' : response['daily']['data'][0]['icon'],\n",
    "                           'Sunrise' : response['daily']['data'][0]['sunriseTime'],\n",
    "                           'Sunset' : response['daily']['data'][0]['sunsetTime'],\n",
    "                           'Moonphase' : response['daily']['data'][0]['moonPhase'],\n",
    "                           'precipIntensity' : response['daily']['data'][0]['precipIntensity'],\n",
    "                           'precipIntensityMax' : response['daily']['data'][0]['precipIntensityMax'],\n",
    "                           'precipProbability' : response['daily']['data'][0]['precipProbability'],\n",
    "                           'temperatureMax' : response['daily']['data'][0]['temperatureMax'],\n",
    "                           'temperatureMaxTime' : response['daily']['data'][0]['temperatureMaxTime'],\n",
    "                           'temperatureMin' : response['daily']['data'][0]['temperatureMin'],\n",
    "                           'temperatureMinTime' : response['daily']['data'][0]['temperatureMinTime'],\n",
    "                           'dewPoint' : response['daily']['data'][0]['dewPoint'],\n",
    "                           'humidity' : response['daily']['data'][0]['humidity'],\n",
    "                           'pressure' : response['daily']['data'][0]['pressure'],\n",
    "                           'windSpeed' : response['daily']['data'][0]['windSpeed'],\n",
    "                           'windGust' : response['daily']['data'][0]['windGust'],\n",
    "                           'windGustTime' : response['daily']['data'][0]['windGustTime'],\n",
    "                           'cloudCover' : response['daily']['data'][0]['cloudCover'],\n",
    "                           'visibility' : response['daily']['data'][0]['visibility']})\n",
    "                          \n",
    "    \n",
    "    print(\"Processing Record\", count, \"day\" ' | ' , day)\n",
    "    \n",
    "    count +=1\n",
    "    \n",
    "print(\"-------------------------------\")\n",
    "print(\"Data Retrieval Complete\")\n",
    "print(\"-------------------------------\")"
   ]
  },
  {
   "cell_type": "code",
   "execution_count": 85,
   "metadata": {},
   "outputs": [
    {
     "data": {
      "text/plain": [
       "[{'Day': 1388512800,\n",
       "  'Summary': 'Mostly cloudy until evening.',\n",
       "  'Detail': 'partly-cloudy-day',\n",
       "  'Sunrise': 1388492470,\n",
       "  'Sunset': 1388525969,\n",
       "  'Moonphase': 0.97,\n",
       "  'precipIntensity': 0,\n",
       "  'precipIntensityMax': 0,\n",
       "  'precipProbability': 0,\n",
       "  'temperatureMax': 31.36,\n",
       "  'temperatureMaxTime': 1388520000,\n",
       "  'temperatureMin': 20.95,\n",
       "  'temperatureMinTime': 1388491200,\n",
       "  'dewPoint': 12.98,\n",
       "  'humidity': 0.57,\n",
       "  'pressure': 1021.22,\n",
       "  'windSpeed': 2.76,\n",
       "  'windGust': 15.22,\n",
       "  'windGustTime': 1388534400,\n",
       "  'cloudCover': 0.47,\n",
       "  'visibility': 9.97},\n",
       " {'Day': 1388599200,\n",
       "  'Summary': 'Mostly cloudy throughout the day.',\n",
       "  'Detail': 'partly-cloudy-day',\n",
       "  'Sunrise': 1388578876,\n",
       "  'Sunset': 1388612417,\n",
       "  'Moonphase': 0.02,\n",
       "  'precipIntensity': 0,\n",
       "  'precipIntensityMax': 0,\n",
       "  'precipProbability': 0,\n",
       "  'temperatureMax': 32.61,\n",
       "  'temperatureMaxTime': 1388606400,\n",
       "  'temperatureMin': 23.02,\n",
       "  'temperatureMinTime': 1388577600,\n",
       "  'dewPoint': 14.62,\n",
       "  'humidity': 0.56,\n",
       "  'pressure': 1027.54,\n",
       "  'windSpeed': 1.43,\n",
       "  'windGust': 10.02,\n",
       "  'windGustTime': 1388552400,\n",
       "  'cloudCover': 0.44,\n",
       "  'visibility': 10}]"
      ]
     },
     "execution_count": 85,
     "metadata": {},
     "output_type": "execute_result"
    }
   ],
   "source": [
    " darksky_data_1"
   ]
  },
  {
   "cell_type": "code",
   "execution_count": 86,
   "metadata": {},
   "outputs": [
    {
     "data": {
      "text/html": [
       "<div>\n",
       "<style scoped>\n",
       "    .dataframe tbody tr th:only-of-type {\n",
       "        vertical-align: middle;\n",
       "    }\n",
       "\n",
       "    .dataframe tbody tr th {\n",
       "        vertical-align: top;\n",
       "    }\n",
       "\n",
       "    .dataframe thead th {\n",
       "        text-align: right;\n",
       "    }\n",
       "</style>\n",
       "<table border=\"1\" class=\"dataframe\">\n",
       "  <thead>\n",
       "    <tr style=\"text-align: right;\">\n",
       "      <th></th>\n",
       "      <th>Day</th>\n",
       "      <th>Detail</th>\n",
       "      <th>Moonphase</th>\n",
       "      <th>Summary</th>\n",
       "      <th>Sunrise</th>\n",
       "      <th>Sunset</th>\n",
       "      <th>cloudCover</th>\n",
       "      <th>dewPoint</th>\n",
       "      <th>humidity</th>\n",
       "      <th>precipIntensity</th>\n",
       "      <th>...</th>\n",
       "      <th>precipProbability</th>\n",
       "      <th>pressure</th>\n",
       "      <th>temperatureMax</th>\n",
       "      <th>temperatureMaxTime</th>\n",
       "      <th>temperatureMin</th>\n",
       "      <th>temperatureMinTime</th>\n",
       "      <th>visibility</th>\n",
       "      <th>windGust</th>\n",
       "      <th>windGustTime</th>\n",
       "      <th>windSpeed</th>\n",
       "    </tr>\n",
       "  </thead>\n",
       "  <tbody>\n",
       "    <tr>\n",
       "      <th>0</th>\n",
       "      <td>1388512800</td>\n",
       "      <td>partly-cloudy-day</td>\n",
       "      <td>0.97</td>\n",
       "      <td>Mostly cloudy until evening.</td>\n",
       "      <td>1388492470</td>\n",
       "      <td>1388525969</td>\n",
       "      <td>0.47</td>\n",
       "      <td>12.98</td>\n",
       "      <td>0.57</td>\n",
       "      <td>0</td>\n",
       "      <td>...</td>\n",
       "      <td>0</td>\n",
       "      <td>1021.22</td>\n",
       "      <td>31.36</td>\n",
       "      <td>1388520000</td>\n",
       "      <td>20.95</td>\n",
       "      <td>1388491200</td>\n",
       "      <td>9.97</td>\n",
       "      <td>15.22</td>\n",
       "      <td>1388534400</td>\n",
       "      <td>2.76</td>\n",
       "    </tr>\n",
       "    <tr>\n",
       "      <th>1</th>\n",
       "      <td>1388599200</td>\n",
       "      <td>partly-cloudy-day</td>\n",
       "      <td>0.02</td>\n",
       "      <td>Mostly cloudy throughout the day.</td>\n",
       "      <td>1388578876</td>\n",
       "      <td>1388612417</td>\n",
       "      <td>0.44</td>\n",
       "      <td>14.62</td>\n",
       "      <td>0.56</td>\n",
       "      <td>0</td>\n",
       "      <td>...</td>\n",
       "      <td>0</td>\n",
       "      <td>1027.54</td>\n",
       "      <td>32.61</td>\n",
       "      <td>1388606400</td>\n",
       "      <td>23.02</td>\n",
       "      <td>1388577600</td>\n",
       "      <td>10.00</td>\n",
       "      <td>10.02</td>\n",
       "      <td>1388552400</td>\n",
       "      <td>1.43</td>\n",
       "    </tr>\n",
       "  </tbody>\n",
       "</table>\n",
       "<p>2 rows × 21 columns</p>\n",
       "</div>"
      ],
      "text/plain": [
       "          Day             Detail  Moonphase  \\\n",
       "0  1388512800  partly-cloudy-day       0.97   \n",
       "1  1388599200  partly-cloudy-day       0.02   \n",
       "\n",
       "                             Summary     Sunrise      Sunset  cloudCover  \\\n",
       "0       Mostly cloudy until evening.  1388492470  1388525969        0.47   \n",
       "1  Mostly cloudy throughout the day.  1388578876  1388612417        0.44   \n",
       "\n",
       "   dewPoint  humidity  precipIntensity    ...      precipProbability  \\\n",
       "0     12.98      0.57                0    ...                      0   \n",
       "1     14.62      0.56                0    ...                      0   \n",
       "\n",
       "   pressure  temperatureMax  temperatureMaxTime  temperatureMin  \\\n",
       "0   1021.22           31.36          1388520000           20.95   \n",
       "1   1027.54           32.61          1388606400           23.02   \n",
       "\n",
       "   temperatureMinTime  visibility  windGust  windGustTime  windSpeed  \n",
       "0          1388491200        9.97     15.22    1388534400       2.76  \n",
       "1          1388577600       10.00     10.02    1388552400       1.43  \n",
       "\n",
       "[2 rows x 21 columns]"
      ]
     },
     "execution_count": 86,
     "metadata": {},
     "output_type": "execute_result"
    }
   ],
   "source": [
    "darksky_data_1_df = pd.DataFrame( darksky_data_1)\n",
    "darksky_data_1_df.head()"
   ]
  },
  {
   "cell_type": "code",
   "execution_count": null,
   "metadata": {},
   "outputs": [],
   "source": []
  }
 ],
 "metadata": {
  "kernelspec": {
   "display_name": "Python 3",
   "language": "python",
   "name": "python3"
  },
  "language_info": {
   "codemirror_mode": {
    "name": "ipython",
    "version": 3
   },
   "file_extension": ".py",
   "mimetype": "text/x-python",
   "name": "python",
   "nbconvert_exporter": "python",
   "pygments_lexer": "ipython3",
   "version": "3.7.1"
  }
 },
 "nbformat": 4,
 "nbformat_minor": 2
}
