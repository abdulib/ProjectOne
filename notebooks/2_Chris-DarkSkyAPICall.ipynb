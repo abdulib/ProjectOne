{
 "cells": [
  {
   "cell_type": "code",
   "execution_count": 1,
   "metadata": {},
   "outputs": [],
   "source": [
    "import matplotlib.pyplot as plt\n",
    "import pandas as pd\n",
    "import numpy as np\n",
    "import os\n",
    "import json\n",
    "import requests\n",
    "import time"
   ]
  },
  {
   "cell_type": "markdown",
   "metadata": {},
   "source": [
    "# Make a list of the Unix days required adding (24 x 60 x 60) to each day\n",
    "\n",
    "# change x in Count >= x to value less than 1000\n",
    "\n",
    "## (Ideally achieving len(unix_time_df) in two goes"
   ]
  },
  {
   "cell_type": "code",
   "execution_count": 19,
   "metadata": {},
   "outputs": [],
   "source": [
    "# Starting at 1466186400 or the 16th June as I already api called the data from 2014 to this date previously\n",
    "\n",
    "days = [1466186400]\n",
    "\n",
    "count = 0\n",
    "\n",
    "for day in days:\n",
    "    \n",
    "    day = day + (24 * 60 * 60)\n",
    "    days.append(day)\n",
    "    \n",
    "    if count >=20:\n",
    "        break\n",
    "        \n",
    "    count +=1"
   ]
  },
  {
   "cell_type": "code",
   "execution_count": 20,
   "metadata": {},
   "outputs": [
    {
     "data": {
      "text/plain": [
       "22"
      ]
     },
     "execution_count": 20,
     "metadata": {},
     "output_type": "execute_result"
    }
   ],
   "source": [
    "len(days)"
   ]
  },
  {
   "cell_type": "code",
   "execution_count": 21,
   "metadata": {},
   "outputs": [
    {
     "data": {
      "text/plain": [
       "[1466186400,\n",
       " 1466272800,\n",
       " 1466359200,\n",
       " 1466445600,\n",
       " 1466532000,\n",
       " 1466618400,\n",
       " 1466704800,\n",
       " 1466791200,\n",
       " 1466877600,\n",
       " 1466964000,\n",
       " 1467050400,\n",
       " 1467136800,\n",
       " 1467223200,\n",
       " 1467309600,\n",
       " 1467396000,\n",
       " 1467482400,\n",
       " 1467568800,\n",
       " 1467655200,\n",
       " 1467741600,\n",
       " 1467828000,\n",
       " 1467914400,\n",
       " 1468000800]"
      ]
     },
     "execution_count": 21,
     "metadata": {},
     "output_type": "execute_result"
    }
   ],
   "source": [
    "days"
   ]
  },
  {
   "cell_type": "code",
   "execution_count": 22,
   "metadata": {},
   "outputs": [
    {
     "data": {
      "text/plain": [
       "'Fri Jun 17 13:00:00 2016'"
      ]
     },
     "execution_count": 22,
     "metadata": {},
     "output_type": "execute_result"
    }
   ],
   "source": [
    "time.ctime(int(\"1466186400\"))"
   ]
  },
  {
   "cell_type": "code",
   "execution_count": 23,
   "metadata": {},
   "outputs": [
    {
     "data": {
      "text/plain": [
       "'06/17/16 13:00'"
      ]
     },
     "execution_count": 23,
     "metadata": {},
     "output_type": "execute_result"
    }
   ],
   "source": [
    "time.strftime(\"%D %H:%M\", time.localtime(int(\"1466186400\")))"
   ]
  },
  {
   "cell_type": "markdown",
   "metadata": {},
   "source": [
    "# Leaving the time entry as 'time' caused problems - 'time' is used elsewhere in python / pandas?\n",
    "\n",
    "# Either way to get the 'for' loop to run, 'time' (now called 'day') had to be called separately in the 'get request' as unlike weather maps, dark sky calls the 'time' in the middle rather than the end of the request:"
   ]
  },
  {
   "cell_type": "code",
   "execution_count": 24,
   "metadata": {},
   "outputs": [],
   "source": [
    "lat = \"40.73\"\n",
    "lng = \"-73.99\"\n",
    "key = \"Your API Key goes here\"\n",
    "exclude = \"currently,flags,alerts,minutely,hourly\"\n",
    "units = \"us\"\n",
    "url = f'https://api.darksky.net/forecast/{key}/{lat},{lng}'"
   ]
  },
  {
   "cell_type": "markdown",
   "metadata": {},
   "source": [
    "# Because we have to retrieve data from a dictionary inside a list or is it a dictionary inside another list, recovering the response values was tricky;"
   ]
  },
  {
   "cell_type": "code",
   "execution_count": 25,
   "metadata": {},
   "outputs": [
    {
     "name": "stdout",
     "output_type": "stream",
     "text": [
      "Beginning Data Retrieval\n",
      "-------------------------------\n",
      "Processing Record 0 day |  1466186400\n",
      "Processing Record 1 day |  1466272800\n",
      "Processing Record 2 day |  1466359200\n",
      "Processing Record 3 day |  1466445600\n",
      "Processing Record 4 day |  1466532000\n",
      "Processing Record 5 day |  1466618400\n",
      "Processing Record 6 day |  1466704800\n",
      "Processing Record 7 day |  1466791200\n",
      "Processing Record 8 day |  1466877600\n",
      "Processing Record 9 day |  1466964000\n",
      "Processing Record 10 day |  1467050400\n",
      "Processing Record 11 day |  1467136800\n",
      "Processing Record 12 day |  1467223200\n",
      "Processing Record 13 day |  1467309600\n",
      "Processing Record 14 day |  1467396000\n",
      "Processing Record 15 day |  1467482400\n",
      "Processing Record 16 day |  1467568800\n",
      "Processing Record 17 day |  1467655200\n",
      "Processing Record 18 day |  1467741600\n",
      "Processing Record 19 day |  1467828000\n",
      "Processing Record 20 day |  1467914400\n",
      "Processing Record 21 day |  1468000800\n",
      "-------------------------------\n",
      "Data Retrieval Complete\n",
      "-------------------------------\n"
     ]
    }
   ],
   "source": [
    "darksky_data_1 = []\n",
    "\n",
    "count = 0\n",
    "\n",
    "\n",
    "print(\"Beginning Data Retrieval\")\n",
    "print(\"-------------------------------\")\n",
    "\n",
    "for day in days:\n",
    "    \n",
    "    response = requests.get(f\"{url},{day}?exclude={exclude}?units={units}\").json()\n",
    "    darksky_data_1.append({'Day' : day,\n",
    "                           'Summary' : response['daily']['data'][0]['summary'],\n",
    "                           'Detail' : response['daily']['data'][0]['icon'],\n",
    "                           'Sunrise' : response['daily']['data'][0]['sunriseTime'],\n",
    "                           'Sunset' : response['daily']['data'][0]['sunsetTime'],\n",
    "                           'Moonphase' : response['daily']['data'][0]['moonPhase'],\n",
    "                           'precipIntensity' : response['daily']['data'][0]['precipIntensity'],\n",
    "                           'precipIntensityMax' : response['daily']['data'][0]['precipIntensityMax'],\n",
    "                           'precipProbability' : response['daily']['data'][0]['precipProbability'],\n",
    "                           'temperatureMax' : response['daily']['data'][0]['temperatureMax'],\n",
    "                           'temperatureMaxTime' : response['daily']['data'][0]['temperatureMaxTime'],\n",
    "                           'temperatureMin' : response['daily']['data'][0]['temperatureMin'],\n",
    "                           'temperatureMinTime' : response['daily']['data'][0]['temperatureMinTime'],\n",
    "                           'dewPoint' : response['daily']['data'][0]['dewPoint'],\n",
    "                           'humidity' : response['daily']['data'][0]['humidity'],\n",
    "                           'pressure' : response['daily']['data'][0]['pressure'],\n",
    "                           'windSpeed' : response['daily']['data'][0]['windSpeed'],\n",
    "                           'windGust' : response['daily']['data'][0]['windGust'],\n",
    "                           'windGustTime' : response['daily']['data'][0]['windGustTime'],\n",
    "                           'cloudCover' : response['daily']['data'][0]['cloudCover'],\n",
    "                           'visibility' : response['daily']['data'][0]['visibility']})\n",
    "                          \n",
    "    \n",
    "    print(\"Processing Record\", count, \"day\" ' | ' , day)\n",
    "    \n",
    "    count +=1\n",
    "    \n",
    "print(\"-------------------------------\")\n",
    "print(\"Data Retrieval Complete\")\n",
    "print(\"-------------------------------\")"
   ]
  },
  {
   "cell_type": "code",
   "execution_count": 26,
   "metadata": {},
   "outputs": [],
   "source": [
    " #darksky_data_1"
   ]
  },
  {
   "cell_type": "code",
   "execution_count": 27,
   "metadata": {},
   "outputs": [
    {
     "data": {
      "text/html": [
       "<div>\n",
       "<style scoped>\n",
       "    .dataframe tbody tr th:only-of-type {\n",
       "        vertical-align: middle;\n",
       "    }\n",
       "\n",
       "    .dataframe tbody tr th {\n",
       "        vertical-align: top;\n",
       "    }\n",
       "\n",
       "    .dataframe thead th {\n",
       "        text-align: right;\n",
       "    }\n",
       "</style>\n",
       "<table border=\"1\" class=\"dataframe\">\n",
       "  <thead>\n",
       "    <tr style=\"text-align: right;\">\n",
       "      <th></th>\n",
       "      <th>Day</th>\n",
       "      <th>Detail</th>\n",
       "      <th>Moonphase</th>\n",
       "      <th>Summary</th>\n",
       "      <th>Sunrise</th>\n",
       "      <th>Sunset</th>\n",
       "      <th>cloudCover</th>\n",
       "      <th>dewPoint</th>\n",
       "      <th>humidity</th>\n",
       "      <th>precipIntensity</th>\n",
       "      <th>...</th>\n",
       "      <th>precipProbability</th>\n",
       "      <th>pressure</th>\n",
       "      <th>temperatureMax</th>\n",
       "      <th>temperatureMaxTime</th>\n",
       "      <th>temperatureMin</th>\n",
       "      <th>temperatureMinTime</th>\n",
       "      <th>visibility</th>\n",
       "      <th>windGust</th>\n",
       "      <th>windGustTime</th>\n",
       "      <th>windSpeed</th>\n",
       "    </tr>\n",
       "  </thead>\n",
       "  <tbody>\n",
       "    <tr>\n",
       "      <th>0</th>\n",
       "      <td>1466186400</td>\n",
       "      <td>partly-cloudy-day</td>\n",
       "      <td>0.41</td>\n",
       "      <td>Partly cloudy until evening.</td>\n",
       "      <td>1466155542</td>\n",
       "      <td>1466209865</td>\n",
       "      <td>0.40</td>\n",
       "      <td>55.40</td>\n",
       "      <td>0.64</td>\n",
       "      <td>0.0000</td>\n",
       "      <td>...</td>\n",
       "      <td>0.00</td>\n",
       "      <td>1013.27</td>\n",
       "      <td>75.34</td>\n",
       "      <td>1466193600</td>\n",
       "      <td>62.73</td>\n",
       "      <td>1466157600</td>\n",
       "      <td>9.98</td>\n",
       "      <td>10.11</td>\n",
       "      <td>1466190000</td>\n",
       "      <td>1.25</td>\n",
       "    </tr>\n",
       "    <tr>\n",
       "      <th>1</th>\n",
       "      <td>1466272800</td>\n",
       "      <td>partly-cloudy-night</td>\n",
       "      <td>0.44</td>\n",
       "      <td>Partly cloudy overnight.</td>\n",
       "      <td>1466241949</td>\n",
       "      <td>1466296282</td>\n",
       "      <td>0.13</td>\n",
       "      <td>52.79</td>\n",
       "      <td>0.54</td>\n",
       "      <td>0.0000</td>\n",
       "      <td>...</td>\n",
       "      <td>0.00</td>\n",
       "      <td>1022.50</td>\n",
       "      <td>84.61</td>\n",
       "      <td>1466272800</td>\n",
       "      <td>56.96</td>\n",
       "      <td>1466240400</td>\n",
       "      <td>10.00</td>\n",
       "      <td>7.46</td>\n",
       "      <td>1466287200</td>\n",
       "      <td>0.74</td>\n",
       "    </tr>\n",
       "    <tr>\n",
       "      <th>2</th>\n",
       "      <td>1466359200</td>\n",
       "      <td>partly-cloudy-day</td>\n",
       "      <td>0.47</td>\n",
       "      <td>Partly cloudy in the morning.</td>\n",
       "      <td>1466328358</td>\n",
       "      <td>1466382698</td>\n",
       "      <td>0.28</td>\n",
       "      <td>57.45</td>\n",
       "      <td>0.60</td>\n",
       "      <td>0.0000</td>\n",
       "      <td>...</td>\n",
       "      <td>0.00</td>\n",
       "      <td>1025.18</td>\n",
       "      <td>85.52</td>\n",
       "      <td>1466355600</td>\n",
       "      <td>63.40</td>\n",
       "      <td>1466330400</td>\n",
       "      <td>10.00</td>\n",
       "      <td>9.36</td>\n",
       "      <td>1466370000</td>\n",
       "      <td>1.23</td>\n",
       "    </tr>\n",
       "    <tr>\n",
       "      <th>3</th>\n",
       "      <td>1466445600</td>\n",
       "      <td>partly-cloudy-day</td>\n",
       "      <td>0.51</td>\n",
       "      <td>Partly cloudy starting in the afternoon.</td>\n",
       "      <td>1466414769</td>\n",
       "      <td>1466469112</td>\n",
       "      <td>0.19</td>\n",
       "      <td>62.41</td>\n",
       "      <td>0.69</td>\n",
       "      <td>0.0000</td>\n",
       "      <td>...</td>\n",
       "      <td>0.00</td>\n",
       "      <td>1019.22</td>\n",
       "      <td>83.21</td>\n",
       "      <td>1466445600</td>\n",
       "      <td>62.53</td>\n",
       "      <td>1466413200</td>\n",
       "      <td>9.97</td>\n",
       "      <td>8.96</td>\n",
       "      <td>1466452800</td>\n",
       "      <td>1.20</td>\n",
       "    </tr>\n",
       "    <tr>\n",
       "      <th>4</th>\n",
       "      <td>1466532000</td>\n",
       "      <td>partly-cloudy-day</td>\n",
       "      <td>0.54</td>\n",
       "      <td>Partly cloudy throughout the day.</td>\n",
       "      <td>1466501181</td>\n",
       "      <td>1466555523</td>\n",
       "      <td>0.44</td>\n",
       "      <td>57.66</td>\n",
       "      <td>0.49</td>\n",
       "      <td>0.0001</td>\n",
       "      <td>...</td>\n",
       "      <td>0.15</td>\n",
       "      <td>1008.88</td>\n",
       "      <td>86.85</td>\n",
       "      <td>1466539200</td>\n",
       "      <td>72.63</td>\n",
       "      <td>1466510400</td>\n",
       "      <td>10.00</td>\n",
       "      <td>13.11</td>\n",
       "      <td>1466506800</td>\n",
       "      <td>1.91</td>\n",
       "    </tr>\n",
       "  </tbody>\n",
       "</table>\n",
       "<p>5 rows × 21 columns</p>\n",
       "</div>"
      ],
      "text/plain": [
       "          Day               Detail  Moonphase  \\\n",
       "0  1466186400    partly-cloudy-day       0.41   \n",
       "1  1466272800  partly-cloudy-night       0.44   \n",
       "2  1466359200    partly-cloudy-day       0.47   \n",
       "3  1466445600    partly-cloudy-day       0.51   \n",
       "4  1466532000    partly-cloudy-day       0.54   \n",
       "\n",
       "                                    Summary     Sunrise      Sunset  \\\n",
       "0              Partly cloudy until evening.  1466155542  1466209865   \n",
       "1                  Partly cloudy overnight.  1466241949  1466296282   \n",
       "2             Partly cloudy in the morning.  1466328358  1466382698   \n",
       "3  Partly cloudy starting in the afternoon.  1466414769  1466469112   \n",
       "4         Partly cloudy throughout the day.  1466501181  1466555523   \n",
       "\n",
       "   cloudCover  dewPoint  humidity  precipIntensity    ...      \\\n",
       "0        0.40     55.40      0.64           0.0000    ...       \n",
       "1        0.13     52.79      0.54           0.0000    ...       \n",
       "2        0.28     57.45      0.60           0.0000    ...       \n",
       "3        0.19     62.41      0.69           0.0000    ...       \n",
       "4        0.44     57.66      0.49           0.0001    ...       \n",
       "\n",
       "   precipProbability  pressure  temperatureMax  temperatureMaxTime  \\\n",
       "0               0.00   1013.27           75.34          1466193600   \n",
       "1               0.00   1022.50           84.61          1466272800   \n",
       "2               0.00   1025.18           85.52          1466355600   \n",
       "3               0.00   1019.22           83.21          1466445600   \n",
       "4               0.15   1008.88           86.85          1466539200   \n",
       "\n",
       "   temperatureMin  temperatureMinTime  visibility  windGust  windGustTime  \\\n",
       "0           62.73          1466157600        9.98     10.11    1466190000   \n",
       "1           56.96          1466240400       10.00      7.46    1466287200   \n",
       "2           63.40          1466330400       10.00      9.36    1466370000   \n",
       "3           62.53          1466413200        9.97      8.96    1466452800   \n",
       "4           72.63          1466510400       10.00     13.11    1466506800   \n",
       "\n",
       "   windSpeed  \n",
       "0       1.25  \n",
       "1       0.74  \n",
       "2       1.23  \n",
       "3       1.20  \n",
       "4       1.91  \n",
       "\n",
       "[5 rows x 21 columns]"
      ]
     },
     "execution_count": 27,
     "metadata": {},
     "output_type": "execute_result"
    }
   ],
   "source": [
    "darksky_data_1_df = pd.DataFrame( darksky_data_1)\n",
    "darksky_data_1_df.head()"
   ]
  },
  {
   "cell_type": "code",
   "execution_count": 28,
   "metadata": {},
   "outputs": [],
   "source": [
    "darksky_data_1_df.to_csv(\"../data/rawdata/dark_sky_2.csv\", index = False, header = True)"
   ]
  },
  {
   "cell_type": "code",
   "execution_count": null,
   "metadata": {},
   "outputs": [],
   "source": []
  }
 ],
 "metadata": {
  "kernelspec": {
   "display_name": "Python 3",
   "language": "python",
   "name": "python3"
  },
  "language_info": {
   "codemirror_mode": {
    "name": "ipython",
    "version": 3
   },
   "file_extension": ".py",
   "mimetype": "text/x-python",
   "name": "python",
   "nbconvert_exporter": "python",
   "pygments_lexer": "ipython3",
   "version": "3.6.8"
  }
 },
 "nbformat": 4,
 "nbformat_minor": 2
}
