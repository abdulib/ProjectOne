{
 "cells": [
  {
   "cell_type": "code",
   "execution_count": 82,
   "metadata": {},
   "outputs": [],
   "source": [
    "import pandas as pd\n",
    "import os\n",
    "import json\n",
    "import requests\n",
    "import time\n",
    "import warnings\n",
    "warnings.filterwarnings('ignore')"
   ]
  },
  {
   "cell_type": "code",
   "execution_count": 83,
   "metadata": {},
   "outputs": [],
   "source": [
    "combined_data_csv = os.path.join(\"..\", \"data\", \"rawdata\", \"coll_n_weather_chris_stan_date_left_merge.csv\")\n",
    "\n",
    "csv = pd.read_csv(combined_data_csv, low_memory=False)"
   ]
  },
  {
   "cell_type": "code",
   "execution_count": 84,
   "metadata": {},
   "outputs": [
    {
     "data": {
      "text/html": [
       "<div>\n",
       "<style scoped>\n",
       "    .dataframe tbody tr th:only-of-type {\n",
       "        vertical-align: middle;\n",
       "    }\n",
       "\n",
       "    .dataframe tbody tr th {\n",
       "        vertical-align: top;\n",
       "    }\n",
       "\n",
       "    .dataframe thead th {\n",
       "        text-align: right;\n",
       "    }\n",
       "</style>\n",
       "<table border=\"1\" class=\"dataframe\">\n",
       "  <thead>\n",
       "    <tr style=\"text-align: right;\">\n",
       "      <th></th>\n",
       "      <th>DATE</th>\n",
       "      <th>UNIX DATE</th>\n",
       "      <th>HOUR</th>\n",
       "      <th>DAY</th>\n",
       "      <th>MONTH</th>\n",
       "      <th>YEAR</th>\n",
       "      <th>BOROUGH</th>\n",
       "      <th>DEATHS</th>\n",
       "      <th>INJURIES</th>\n",
       "      <th>ZIP CODE</th>\n",
       "      <th>...</th>\n",
       "      <th>precipProbability</th>\n",
       "      <th>pressure</th>\n",
       "      <th>temperatureMax</th>\n",
       "      <th>temperatureMaxTime</th>\n",
       "      <th>temperatureMin</th>\n",
       "      <th>temperatureMinTime</th>\n",
       "      <th>visibility</th>\n",
       "      <th>windGust</th>\n",
       "      <th>windGustTime</th>\n",
       "      <th>windSpeed</th>\n",
       "    </tr>\n",
       "  </thead>\n",
       "  <tbody>\n",
       "    <tr>\n",
       "      <th>0</th>\n",
       "      <td>2018-12-30</td>\n",
       "      <td>1546171200</td>\n",
       "      <td>12</td>\n",
       "      <td>Sunday</td>\n",
       "      <td>12</td>\n",
       "      <td>2018</td>\n",
       "      <td>NaN</td>\n",
       "      <td>0.0</td>\n",
       "      <td>0</td>\n",
       "      <td>NaN</td>\n",
       "      <td>...</td>\n",
       "      <td>0.0</td>\n",
       "      <td>1023.42</td>\n",
       "      <td>38.91</td>\n",
       "      <td>1546146000</td>\n",
       "      <td>34.20</td>\n",
       "      <td>1546228800</td>\n",
       "      <td>9.87</td>\n",
       "      <td>5.93</td>\n",
       "      <td>1546149600</td>\n",
       "      <td>0.73</td>\n",
       "    </tr>\n",
       "    <tr>\n",
       "      <th>1</th>\n",
       "      <td>2018-12-30</td>\n",
       "      <td>1546171200</td>\n",
       "      <td>12</td>\n",
       "      <td>Sunday</td>\n",
       "      <td>12</td>\n",
       "      <td>2018</td>\n",
       "      <td>NaN</td>\n",
       "      <td>0.0</td>\n",
       "      <td>0</td>\n",
       "      <td>NaN</td>\n",
       "      <td>...</td>\n",
       "      <td>0.0</td>\n",
       "      <td>1023.42</td>\n",
       "      <td>38.91</td>\n",
       "      <td>1546146000</td>\n",
       "      <td>34.20</td>\n",
       "      <td>1546228800</td>\n",
       "      <td>9.87</td>\n",
       "      <td>5.93</td>\n",
       "      <td>1546149600</td>\n",
       "      <td>0.73</td>\n",
       "    </tr>\n",
       "    <tr>\n",
       "      <th>2</th>\n",
       "      <td>2018-12-28</td>\n",
       "      <td>1545955200</td>\n",
       "      <td>0</td>\n",
       "      <td>Friday</td>\n",
       "      <td>12</td>\n",
       "      <td>2018</td>\n",
       "      <td>NaN</td>\n",
       "      <td>0.0</td>\n",
       "      <td>0</td>\n",
       "      <td>NaN</td>\n",
       "      <td>...</td>\n",
       "      <td>1.0</td>\n",
       "      <td>1018.77</td>\n",
       "      <td>57.26</td>\n",
       "      <td>1546041600</td>\n",
       "      <td>42.23</td>\n",
       "      <td>1545973200</td>\n",
       "      <td>5.25</td>\n",
       "      <td>9.29</td>\n",
       "      <td>1546016400</td>\n",
       "      <td>3.85</td>\n",
       "    </tr>\n",
       "    <tr>\n",
       "      <th>3</th>\n",
       "      <td>2018-12-17</td>\n",
       "      <td>1545065100</td>\n",
       "      <td>16</td>\n",
       "      <td>Monday</td>\n",
       "      <td>12</td>\n",
       "      <td>2018</td>\n",
       "      <td>NaN</td>\n",
       "      <td>0.0</td>\n",
       "      <td>0</td>\n",
       "      <td>NaN</td>\n",
       "      <td>...</td>\n",
       "      <td>0.0</td>\n",
       "      <td>1007.31</td>\n",
       "      <td>45.88</td>\n",
       "      <td>1545066000</td>\n",
       "      <td>38.11</td>\n",
       "      <td>1545026400</td>\n",
       "      <td>10.00</td>\n",
       "      <td>16.37</td>\n",
       "      <td>1545080400</td>\n",
       "      <td>8.54</td>\n",
       "    </tr>\n",
       "    <tr>\n",
       "      <th>4</th>\n",
       "      <td>2018-12-11</td>\n",
       "      <td>1544533200</td>\n",
       "      <td>13</td>\n",
       "      <td>Tuesday</td>\n",
       "      <td>12</td>\n",
       "      <td>2018</td>\n",
       "      <td>NaN</td>\n",
       "      <td>0.0</td>\n",
       "      <td>0</td>\n",
       "      <td>NaN</td>\n",
       "      <td>...</td>\n",
       "      <td>0.0</td>\n",
       "      <td>1018.65</td>\n",
       "      <td>40.08</td>\n",
       "      <td>1544558400</td>\n",
       "      <td>25.13</td>\n",
       "      <td>1544526000</td>\n",
       "      <td>10.00</td>\n",
       "      <td>7.32</td>\n",
       "      <td>1544580000</td>\n",
       "      <td>1.49</td>\n",
       "    </tr>\n",
       "  </tbody>\n",
       "</table>\n",
       "<p>5 rows × 34 columns</p>\n",
       "</div>"
      ],
      "text/plain": [
       "         DATE   UNIX DATE  HOUR      DAY  MONTH  YEAR BOROUGH  DEATHS  \\\n",
       "0  2018-12-30  1546171200    12   Sunday     12  2018     NaN     0.0   \n",
       "1  2018-12-30  1546171200    12   Sunday     12  2018     NaN     0.0   \n",
       "2  2018-12-28  1545955200     0   Friday     12  2018     NaN     0.0   \n",
       "3  2018-12-17  1545065100    16   Monday     12  2018     NaN     0.0   \n",
       "4  2018-12-11  1544533200    13  Tuesday     12  2018     NaN     0.0   \n",
       "\n",
       "   INJURIES ZIP CODE    ...      precipProbability  pressure temperatureMax  \\\n",
       "0         0      NaN    ...                    0.0   1023.42          38.91   \n",
       "1         0      NaN    ...                    0.0   1023.42          38.91   \n",
       "2         0      NaN    ...                    1.0   1018.77          57.26   \n",
       "3         0      NaN    ...                    0.0   1007.31          45.88   \n",
       "4         0      NaN    ...                    0.0   1018.65          40.08   \n",
       "\n",
       "   temperatureMaxTime temperatureMin  temperatureMinTime visibility  windGust  \\\n",
       "0          1546146000          34.20          1546228800       9.87      5.93   \n",
       "1          1546146000          34.20          1546228800       9.87      5.93   \n",
       "2          1546041600          42.23          1545973200       5.25      9.29   \n",
       "3          1545066000          38.11          1545026400      10.00     16.37   \n",
       "4          1544558400          25.13          1544526000      10.00      7.32   \n",
       "\n",
       "   windGustTime  windSpeed  \n",
       "0    1546149600       0.73  \n",
       "1    1546149600       0.73  \n",
       "2    1546016400       3.85  \n",
       "3    1545080400       8.54  \n",
       "4    1544580000       1.49  \n",
       "\n",
       "[5 rows x 34 columns]"
      ]
     },
     "execution_count": 84,
     "metadata": {},
     "output_type": "execute_result"
    }
   ],
   "source": [
    "combined_data_df = pd.DataFrame(csv)\n",
    "combined_data_df.head()"
   ]
  },
  {
   "cell_type": "code",
   "execution_count": 85,
   "metadata": {},
   "outputs": [
    {
     "data": {
      "text/plain": [
       "1116399"
      ]
     },
     "execution_count": 85,
     "metadata": {},
     "output_type": "execute_result"
    }
   ],
   "source": [
    "len(combined_data_df)"
   ]
  },
  {
   "cell_type": "code",
   "execution_count": 86,
   "metadata": {},
   "outputs": [
    {
     "data": {
      "text/plain": [
       "'2013-12-31'"
      ]
     },
     "execution_count": 86,
     "metadata": {},
     "output_type": "execute_result"
    }
   ],
   "source": [
    "combined_data_df['DATE'][1116398]"
   ]
  },
  {
   "cell_type": "code",
   "execution_count": 87,
   "metadata": {},
   "outputs": [
    {
     "data": {
      "text/plain": [
       "Index(['DATE', 'UNIX DATE', 'HOUR', 'DAY', 'MONTH', 'YEAR', 'BOROUGH',\n",
       "       'DEATHS', 'INJURIES', 'ZIP CODE', 'LATITUDE', 'LONGITUDE', 'LOCATION',\n",
       "       'Day', 'Detail', 'Moonphase', 'Summary', 'Sunrise', 'Sunset',\n",
       "       'cloudCover', 'dewPoint', 'humidity', 'precipIntensity',\n",
       "       'precipIntensityMax', 'precipProbability', 'pressure', 'temperatureMax',\n",
       "       'temperatureMaxTime', 'temperatureMin', 'temperatureMinTime',\n",
       "       'visibility', 'windGust', 'windGustTime', 'windSpeed'],\n",
       "      dtype='object')"
      ]
     },
     "execution_count": 87,
     "metadata": {},
     "output_type": "execute_result"
    }
   ],
   "source": [
    "combined_data_df.columns"
   ]
  },
  {
   "cell_type": "code",
   "execution_count": 91,
   "metadata": {},
   "outputs": [
    {
     "data": {
      "text/plain": [
       "DATE                  datetime64[ns]\n",
       "UNIX DATE                      int64\n",
       "HOUR                           int64\n",
       "DAY                           object\n",
       "MONTH                          int64\n",
       "YEAR                           int64\n",
       "BOROUGH                       object\n",
       "DEATHS                       float64\n",
       "INJURIES                       int64\n",
       "ZIP CODE                      object\n",
       "LATITUDE                     float64\n",
       "LONGITUDE                    float64\n",
       "LOCATION                      object\n",
       "Day                            int64\n",
       "Detail                        object\n",
       "Moonphase                    float64\n",
       "Summary                       object\n",
       "Sunrise                        int64\n",
       "Sunset                         int64\n",
       "cloudCover                   float64\n",
       "dewPoint                     float64\n",
       "humidity                     float64\n",
       "precipIntensity              float64\n",
       "precipIntensityMax           float64\n",
       "precipProbability            float64\n",
       "pressure                     float64\n",
       "temperatureMax               float64\n",
       "temperatureMaxTime             int64\n",
       "temperatureMin               float64\n",
       "temperatureMinTime             int64\n",
       "visibility                   float64\n",
       "windGust                     float64\n",
       "windGustTime                   int64\n",
       "windSpeed                    float64\n",
       "dtype: object"
      ]
     },
     "execution_count": 91,
     "metadata": {},
     "output_type": "execute_result"
    }
   ],
   "source": [
    "combined_data_df['DATE'] = combined_data_df['DATE'].astype(np.datetime64)\n",
    "combined_data_df.dtypes"
   ]
  },
  {
   "cell_type": "code",
   "execution_count": 92,
   "metadata": {},
   "outputs": [
    {
     "data": {
      "text/html": [
       "<div>\n",
       "<style scoped>\n",
       "    .dataframe tbody tr th:only-of-type {\n",
       "        vertical-align: middle;\n",
       "    }\n",
       "\n",
       "    .dataframe tbody tr th {\n",
       "        vertical-align: top;\n",
       "    }\n",
       "\n",
       "    .dataframe thead th {\n",
       "        text-align: right;\n",
       "    }\n",
       "</style>\n",
       "<table border=\"1\" class=\"dataframe\">\n",
       "  <thead>\n",
       "    <tr style=\"text-align: right;\">\n",
       "      <th></th>\n",
       "      <th>DATE</th>\n",
       "      <th>UNIX DATE</th>\n",
       "      <th>HOUR</th>\n",
       "      <th>DAY</th>\n",
       "      <th>MONTH</th>\n",
       "      <th>YEAR</th>\n",
       "      <th>BOROUGH</th>\n",
       "      <th>DEATHS</th>\n",
       "      <th>INJURIES</th>\n",
       "      <th>ZIP CODE</th>\n",
       "      <th>...</th>\n",
       "      <th>precipProbability</th>\n",
       "      <th>pressure</th>\n",
       "      <th>temperatureMax</th>\n",
       "      <th>temperatureMaxTime</th>\n",
       "      <th>temperatureMin</th>\n",
       "      <th>temperatureMinTime</th>\n",
       "      <th>visibility</th>\n",
       "      <th>windGust</th>\n",
       "      <th>windGustTime</th>\n",
       "      <th>windSpeed</th>\n",
       "    </tr>\n",
       "  </thead>\n",
       "  <tbody>\n",
       "    <tr>\n",
       "      <th>1116398</th>\n",
       "      <td>2013-12-31</td>\n",
       "      <td>1388483880</td>\n",
       "      <td>9</td>\n",
       "      <td>Tuesday</td>\n",
       "      <td>12</td>\n",
       "      <td>2013</td>\n",
       "      <td>BROOKLYN</td>\n",
       "      <td>0.0</td>\n",
       "      <td>0</td>\n",
       "      <td>11219</td>\n",
       "      <td>...</td>\n",
       "      <td>0.0</td>\n",
       "      <td>1021.22</td>\n",
       "      <td>31.36</td>\n",
       "      <td>1388520000</td>\n",
       "      <td>20.95</td>\n",
       "      <td>1388491200</td>\n",
       "      <td>9.97</td>\n",
       "      <td>15.22</td>\n",
       "      <td>1388534400</td>\n",
       "      <td>2.76</td>\n",
       "    </tr>\n",
       "    <tr>\n",
       "      <th>1116081</th>\n",
       "      <td>2013-12-31</td>\n",
       "      <td>1388499660</td>\n",
       "      <td>14</td>\n",
       "      <td>Tuesday</td>\n",
       "      <td>12</td>\n",
       "      <td>2013</td>\n",
       "      <td>NaN</td>\n",
       "      <td>0.0</td>\n",
       "      <td>1</td>\n",
       "      <td>NaN</td>\n",
       "      <td>...</td>\n",
       "      <td>0.0</td>\n",
       "      <td>1021.22</td>\n",
       "      <td>31.36</td>\n",
       "      <td>1388520000</td>\n",
       "      <td>20.95</td>\n",
       "      <td>1388491200</td>\n",
       "      <td>9.97</td>\n",
       "      <td>15.22</td>\n",
       "      <td>1388534400</td>\n",
       "      <td>2.76</td>\n",
       "    </tr>\n",
       "  </tbody>\n",
       "</table>\n",
       "<p>2 rows × 34 columns</p>\n",
       "</div>"
      ],
      "text/plain": [
       "              DATE   UNIX DATE  HOUR      DAY  MONTH  YEAR   BOROUGH  DEATHS  \\\n",
       "1116398 2013-12-31  1388483880     9  Tuesday     12  2013  BROOKLYN     0.0   \n",
       "1116081 2013-12-31  1388499660    14  Tuesday     12  2013       NaN     0.0   \n",
       "\n",
       "         INJURIES ZIP CODE    ...      precipProbability  pressure  \\\n",
       "1116398         0    11219    ...                    0.0   1021.22   \n",
       "1116081         1      NaN    ...                    0.0   1021.22   \n",
       "\n",
       "        temperatureMax  temperatureMaxTime temperatureMin  temperatureMinTime  \\\n",
       "1116398          31.36          1388520000          20.95          1388491200   \n",
       "1116081          31.36          1388520000          20.95          1388491200   \n",
       "\n",
       "        visibility  windGust  windGustTime  windSpeed  \n",
       "1116398       9.97     15.22    1388534400       2.76  \n",
       "1116081       9.97     15.22    1388534400       2.76  \n",
       "\n",
       "[2 rows x 34 columns]"
      ]
     },
     "execution_count": 92,
     "metadata": {},
     "output_type": "execute_result"
    }
   ],
   "source": [
    "combined_data_df=combined_data_df.sort_values('DATE', ascending=True)\n",
    "combined_data_df.head(2)"
   ]
  },
  {
   "cell_type": "code",
   "execution_count": 93,
   "metadata": {},
   "outputs": [
    {
     "data": {
      "text/plain": [
       "<matplotlib.axes._subplots.AxesSubplot at 0x2c2bec50>"
      ]
     },
     "execution_count": 93,
     "metadata": {},
     "output_type": "execute_result"
    },
    {
     "data": {
      "image/png": "[encoded data removed]",
      "text/plain": [
       "<Figure size 432x288 with 1 Axes>"
      ]
     },
     "metadata": {
      "needs_background": "light"
     },
     "output_type": "display_data"
    }
   ],
   "source": [
    "combined_data_df.plot.scatter('temperatureMin',\n",
    "                              'INJURIES', \n",
    "                              title=(f'Min Temperature vs. Injuries'), \n",
    "                              marker='o', \n",
    "                              s=40, \n",
    "                              xlim=[0, 90],\n",
    "                              color='SteelBlue', \n",
    "                              edgecolor='black', \n",
    "                              grid=True)"
   ]
  },
  {
   "cell_type": "code",
   "execution_count": 97,
   "metadata": {},
   "outputs": [
    {
     "data": {
      "text/html": [
       "<div>\n",
       "<style scoped>\n",
       "    .dataframe tbody tr th:only-of-type {\n",
       "        vertical-align: middle;\n",
       "    }\n",
       "\n",
       "    .dataframe tbody tr th {\n",
       "        vertical-align: top;\n",
       "    }\n",
       "\n",
       "    .dataframe thead th {\n",
       "        text-align: right;\n",
       "    }\n",
       "</style>\n",
       "<table border=\"1\" class=\"dataframe\">\n",
       "  <thead>\n",
       "    <tr style=\"text-align: right;\">\n",
       "      <th></th>\n",
       "      <th>DATE</th>\n",
       "      <th>UNIX DATE</th>\n",
       "      <th>HOUR</th>\n",
       "      <th>DAY</th>\n",
       "      <th>MONTH</th>\n",
       "      <th>YEAR</th>\n",
       "      <th>BOROUGH</th>\n",
       "      <th>DEATHS</th>\n",
       "      <th>INJURIES</th>\n",
       "      <th>ZIP CODE</th>\n",
       "      <th>...</th>\n",
       "      <th>pressure</th>\n",
       "      <th>temperatureMax</th>\n",
       "      <th>temperatureMaxTime</th>\n",
       "      <th>temperatureMin</th>\n",
       "      <th>temperatureMinTime</th>\n",
       "      <th>visibility</th>\n",
       "      <th>windGust</th>\n",
       "      <th>windGustTime</th>\n",
       "      <th>windSpeed</th>\n",
       "      <th>Collisions</th>\n",
       "    </tr>\n",
       "  </thead>\n",
       "  <tbody>\n",
       "    <tr>\n",
       "      <th>1116398</th>\n",
       "      <td>2013-12-31</td>\n",
       "      <td>1388483880</td>\n",
       "      <td>9</td>\n",
       "      <td>Tuesday</td>\n",
       "      <td>12</td>\n",
       "      <td>2013</td>\n",
       "      <td>BROOKLYN</td>\n",
       "      <td>0.0</td>\n",
       "      <td>0</td>\n",
       "      <td>11219</td>\n",
       "      <td>...</td>\n",
       "      <td>1021.22</td>\n",
       "      <td>31.36</td>\n",
       "      <td>1388520000</td>\n",
       "      <td>20.95</td>\n",
       "      <td>1388491200</td>\n",
       "      <td>9.97</td>\n",
       "      <td>15.22</td>\n",
       "      <td>1388534400</td>\n",
       "      <td>2.76</td>\n",
       "      <td>0</td>\n",
       "    </tr>\n",
       "    <tr>\n",
       "      <th>1116081</th>\n",
       "      <td>2013-12-31</td>\n",
       "      <td>1388499660</td>\n",
       "      <td>14</td>\n",
       "      <td>Tuesday</td>\n",
       "      <td>12</td>\n",
       "      <td>2013</td>\n",
       "      <td>NaN</td>\n",
       "      <td>0.0</td>\n",
       "      <td>1</td>\n",
       "      <td>NaN</td>\n",
       "      <td>...</td>\n",
       "      <td>1021.22</td>\n",
       "      <td>31.36</td>\n",
       "      <td>1388520000</td>\n",
       "      <td>20.95</td>\n",
       "      <td>1388491200</td>\n",
       "      <td>9.97</td>\n",
       "      <td>15.22</td>\n",
       "      <td>1388534400</td>\n",
       "      <td>2.76</td>\n",
       "      <td>1</td>\n",
       "    </tr>\n",
       "  </tbody>\n",
       "</table>\n",
       "<p>2 rows × 35 columns</p>\n",
       "</div>"
      ],
      "text/plain": [
       "              DATE   UNIX DATE  HOUR      DAY  MONTH  YEAR   BOROUGH  DEATHS  \\\n",
       "1116398 2013-12-31  1388483880     9  Tuesday     12  2013  BROOKLYN     0.0   \n",
       "1116081 2013-12-31  1388499660    14  Tuesday     12  2013       NaN     0.0   \n",
       "\n",
       "         INJURIES ZIP CODE     ...      pressure  temperatureMax  \\\n",
       "1116398         0    11219     ...       1021.22           31.36   \n",
       "1116081         1      NaN     ...       1021.22           31.36   \n",
       "\n",
       "        temperatureMaxTime  temperatureMin temperatureMinTime  visibility  \\\n",
       "1116398         1388520000           20.95         1388491200        9.97   \n",
       "1116081         1388520000           20.95         1388491200        9.97   \n",
       "\n",
       "        windGust  windGustTime  windSpeed  Collisions  \n",
       "1116398    15.22    1388534400       2.76           0  \n",
       "1116081    15.22    1388534400       2.76           1  \n",
       "\n",
       "[2 rows x 35 columns]"
      ]
     },
     "execution_count": 97,
     "metadata": {},
     "output_type": "execute_result"
    }
   ],
   "source": [
    "combined_data_df['Collisions'] = np.arange(len(combined_data_df))\n",
    "combined_data_df.head(2)"
   ]
  },
  {
   "cell_type": "code",
   "execution_count": 98,
   "metadata": {},
   "outputs": [
    {
     "data": {
      "text/plain": [
       "Index(['DATE', 'UNIX DATE', 'HOUR', 'DAY', 'MONTH', 'YEAR', 'BOROUGH',\n",
       "       'DEATHS', 'INJURIES', 'ZIP CODE', 'LATITUDE', 'LONGITUDE', 'LOCATION',\n",
       "       'Day', 'Detail', 'Moonphase', 'Summary', 'Sunrise', 'Sunset',\n",
       "       'cloudCover', 'dewPoint', 'humidity', 'precipIntensity',\n",
       "       'precipIntensityMax', 'precipProbability', 'pressure', 'temperatureMax',\n",
       "       'temperatureMaxTime', 'temperatureMin', 'temperatureMinTime',\n",
       "       'visibility', 'windGust', 'windGustTime', 'windSpeed', 'Collisions'],\n",
       "      dtype='object')"
      ]
     },
     "execution_count": 98,
     "metadata": {},
     "output_type": "execute_result"
    }
   ],
   "source": [
    "combined_data_df.columns"
   ]
  },
  {
   "cell_type": "code",
   "execution_count": 99,
   "metadata": {},
   "outputs": [
    {
     "data": {
      "text/plain": [
       "<matplotlib.axes._subplots.AxesSubplot at 0x236d2828>"
      ]
     },
     "execution_count": 99,
     "metadata": {},
     "output_type": "execute_result"
    },
    {
     "data": {
      "image/png": "[encoded data removed]",
      "text/plain": [
       "<Figure size 432x288 with 1 Axes>"
      ]
     },
     "metadata": {
      "needs_background": "light"
     },
     "output_type": "display_data"
    }
   ],
   "source": [
    "combined_data_df.plot.scatter('temperatureMin',\n",
    "                              'Collisions', \n",
    "                              title=(f'Min Temperature vs. Collisions'), \n",
    "                              marker='o', \n",
    "                              s=40, \n",
    "                              xlim=[0, 90],\n",
    "                              color='SteelBlue', \n",
    "                              edgecolor='black', \n",
    "                              grid=True)"
   ]
  },
  {
   "cell_type": "code",
   "execution_count": 100,
   "metadata": {},
   "outputs": [],
   "source": [
    "grouped_by_date_df = combined_data_df.groupby('DATE')"
   ]
  },
  {
   "cell_type": "code",
   "execution_count": 101,
   "metadata": {},
   "outputs": [
    {
     "data": {
      "text/html": [
       "<div>\n",
       "<style scoped>\n",
       "    .dataframe tbody tr th:only-of-type {\n",
       "        vertical-align: middle;\n",
       "    }\n",
       "\n",
       "    .dataframe tbody tr th {\n",
       "        vertical-align: top;\n",
       "    }\n",
       "\n",
       "    .dataframe thead th {\n",
       "        text-align: right;\n",
       "    }\n",
       "</style>\n",
       "<table border=\"1\" class=\"dataframe\">\n",
       "  <thead>\n",
       "    <tr style=\"text-align: right;\">\n",
       "      <th></th>\n",
       "      <th>UNIX DATE</th>\n",
       "      <th>HOUR</th>\n",
       "      <th>DAY</th>\n",
       "      <th>MONTH</th>\n",
       "      <th>YEAR</th>\n",
       "      <th>BOROUGH</th>\n",
       "      <th>DEATHS</th>\n",
       "      <th>INJURIES</th>\n",
       "      <th>ZIP CODE</th>\n",
       "      <th>LATITUDE</th>\n",
       "      <th>...</th>\n",
       "      <th>pressure</th>\n",
       "      <th>temperatureMax</th>\n",
       "      <th>temperatureMaxTime</th>\n",
       "      <th>temperatureMin</th>\n",
       "      <th>temperatureMinTime</th>\n",
       "      <th>visibility</th>\n",
       "      <th>windGust</th>\n",
       "      <th>windGustTime</th>\n",
       "      <th>windSpeed</th>\n",
       "      <th>Collisions</th>\n",
       "    </tr>\n",
       "    <tr>\n",
       "      <th>DATE</th>\n",
       "      <th></th>\n",
       "      <th></th>\n",
       "      <th></th>\n",
       "      <th></th>\n",
       "      <th></th>\n",
       "      <th></th>\n",
       "      <th></th>\n",
       "      <th></th>\n",
       "      <th></th>\n",
       "      <th></th>\n",
       "      <th></th>\n",
       "      <th></th>\n",
       "      <th></th>\n",
       "      <th></th>\n",
       "      <th></th>\n",
       "      <th></th>\n",
       "      <th></th>\n",
       "      <th></th>\n",
       "      <th></th>\n",
       "      <th></th>\n",
       "      <th></th>\n",
       "    </tr>\n",
       "  </thead>\n",
       "  <tbody>\n",
       "    <tr>\n",
       "      <th>2013-12-31</th>\n",
       "      <td>464</td>\n",
       "      <td>464</td>\n",
       "      <td>464</td>\n",
       "      <td>464</td>\n",
       "      <td>464</td>\n",
       "      <td>370</td>\n",
       "      <td>464</td>\n",
       "      <td>464</td>\n",
       "      <td>370</td>\n",
       "      <td>396</td>\n",
       "      <td>...</td>\n",
       "      <td>464</td>\n",
       "      <td>464</td>\n",
       "      <td>464</td>\n",
       "      <td>464</td>\n",
       "      <td>464</td>\n",
       "      <td>464</td>\n",
       "      <td>464</td>\n",
       "      <td>464</td>\n",
       "      <td>464</td>\n",
       "      <td>464</td>\n",
       "    </tr>\n",
       "    <tr>\n",
       "      <th>2014-01-01</th>\n",
       "      <td>399</td>\n",
       "      <td>399</td>\n",
       "      <td>399</td>\n",
       "      <td>399</td>\n",
       "      <td>399</td>\n",
       "      <td>311</td>\n",
       "      <td>399</td>\n",
       "      <td>399</td>\n",
       "      <td>311</td>\n",
       "      <td>341</td>\n",
       "      <td>...</td>\n",
       "      <td>399</td>\n",
       "      <td>399</td>\n",
       "      <td>399</td>\n",
       "      <td>399</td>\n",
       "      <td>399</td>\n",
       "      <td>399</td>\n",
       "      <td>399</td>\n",
       "      <td>399</td>\n",
       "      <td>399</td>\n",
       "      <td>399</td>\n",
       "    </tr>\n",
       "  </tbody>\n",
       "</table>\n",
       "<p>2 rows × 34 columns</p>\n",
       "</div>"
      ],
      "text/plain": [
       "            UNIX DATE  HOUR  DAY  MONTH  YEAR  BOROUGH  DEATHS  INJURIES  \\\n",
       "DATE                                                                       \n",
       "2013-12-31        464   464  464    464   464      370     464       464   \n",
       "2014-01-01        399   399  399    399   399      311     399       399   \n",
       "\n",
       "            ZIP CODE  LATITUDE     ...      pressure  temperatureMax  \\\n",
       "DATE                               ...                                 \n",
       "2013-12-31       370       396     ...           464             464   \n",
       "2014-01-01       311       341     ...           399             399   \n",
       "\n",
       "            temperatureMaxTime  temperatureMin  temperatureMinTime  \\\n",
       "DATE                                                                 \n",
       "2013-12-31                 464             464                 464   \n",
       "2014-01-01                 399             399                 399   \n",
       "\n",
       "            visibility  windGust  windGustTime  windSpeed  Collisions  \n",
       "DATE                                                                   \n",
       "2013-12-31         464       464           464        464         464  \n",
       "2014-01-01         399       399           399        399         399  \n",
       "\n",
       "[2 rows x 34 columns]"
      ]
     },
     "execution_count": 101,
     "metadata": {},
     "output_type": "execute_result"
    }
   ],
   "source": [
    "grouped_by_date_df.count().head(2)"
   ]
  },
  {
   "cell_type": "code",
   "execution_count": 102,
   "metadata": {},
   "outputs": [
    {
     "data": {
      "text/html": [
       "<div>\n",
       "<style scoped>\n",
       "    .dataframe tbody tr th:only-of-type {\n",
       "        vertical-align: middle;\n",
       "    }\n",
       "\n",
       "    .dataframe tbody tr th {\n",
       "        vertical-align: top;\n",
       "    }\n",
       "\n",
       "    .dataframe thead th {\n",
       "        text-align: right;\n",
       "    }\n",
       "</style>\n",
       "<table border=\"1\" class=\"dataframe\">\n",
       "  <thead>\n",
       "    <tr style=\"text-align: right;\">\n",
       "      <th></th>\n",
       "      <th>Collisions</th>\n",
       "    </tr>\n",
       "    <tr>\n",
       "      <th>DATE</th>\n",
       "      <th></th>\n",
       "    </tr>\n",
       "  </thead>\n",
       "  <tbody>\n",
       "    <tr>\n",
       "      <th>2013-12-31</th>\n",
       "      <td>464</td>\n",
       "    </tr>\n",
       "    <tr>\n",
       "      <th>2014-01-01</th>\n",
       "      <td>399</td>\n",
       "    </tr>\n",
       "  </tbody>\n",
       "</table>\n",
       "</div>"
      ],
      "text/plain": [
       "            Collisions\n",
       "DATE                  \n",
       "2013-12-31         464\n",
       "2014-01-01         399"
      ]
     },
     "execution_count": 102,
     "metadata": {},
     "output_type": "execute_result"
    }
   ],
   "source": [
    "total_collisions = pd.DataFrame(grouped_by_date_df['Collisions'].count())\n",
    "total_collisions.head(2)"
   ]
  },
  {
   "cell_type": "code",
   "execution_count": 119,
   "metadata": {},
   "outputs": [
    {
     "data": {
      "text/html": [
       "<div>\n",
       "<style scoped>\n",
       "    .dataframe tbody tr th:only-of-type {\n",
       "        vertical-align: middle;\n",
       "    }\n",
       "\n",
       "    .dataframe tbody tr th {\n",
       "        vertical-align: top;\n",
       "    }\n",
       "\n",
       "    .dataframe thead th {\n",
       "        text-align: right;\n",
       "    }\n",
       "</style>\n",
       "<table border=\"1\" class=\"dataframe\">\n",
       "  <thead>\n",
       "    <tr style=\"text-align: right;\">\n",
       "      <th></th>\n",
       "      <th>INJURIES</th>\n",
       "    </tr>\n",
       "    <tr>\n",
       "      <th>DATE</th>\n",
       "      <th></th>\n",
       "    </tr>\n",
       "  </thead>\n",
       "  <tbody>\n",
       "    <tr>\n",
       "      <th>2013-12-31</th>\n",
       "      <td>122</td>\n",
       "    </tr>\n",
       "    <tr>\n",
       "      <th>2014-01-01</th>\n",
       "      <td>165</td>\n",
       "    </tr>\n",
       "  </tbody>\n",
       "</table>\n",
       "</div>"
      ],
      "text/plain": [
       "            INJURIES\n",
       "DATE                \n",
       "2013-12-31       122\n",
       "2014-01-01       165"
      ]
     },
     "execution_count": 119,
     "metadata": {},
     "output_type": "execute_result"
    }
   ],
   "source": [
    "total_injuries = pd.DataFrame(grouped_by_date_df['INJURIES'].sum())\n",
    "total_injuries.head(2)"
   ]
  },
  {
   "cell_type": "code",
   "execution_count": 126,
   "metadata": {},
   "outputs": [
    {
     "data": {
      "text/html": [
       "<div>\n",
       "<style scoped>\n",
       "    .dataframe tbody tr th:only-of-type {\n",
       "        vertical-align: middle;\n",
       "    }\n",
       "\n",
       "    .dataframe tbody tr th {\n",
       "        vertical-align: top;\n",
       "    }\n",
       "\n",
       "    .dataframe thead th {\n",
       "        text-align: right;\n",
       "    }\n",
       "</style>\n",
       "<table border=\"1\" class=\"dataframe\">\n",
       "  <thead>\n",
       "    <tr style=\"text-align: right;\">\n",
       "      <th></th>\n",
       "      <th>DATE</th>\n",
       "      <th>Collisions</th>\n",
       "      <th>INJURIES</th>\n",
       "    </tr>\n",
       "  </thead>\n",
       "  <tbody>\n",
       "    <tr>\n",
       "      <th>0</th>\n",
       "      <td>2013-12-31</td>\n",
       "      <td>464</td>\n",
       "      <td>122</td>\n",
       "    </tr>\n",
       "    <tr>\n",
       "      <th>1</th>\n",
       "      <td>2014-01-01</td>\n",
       "      <td>399</td>\n",
       "      <td>165</td>\n",
       "    </tr>\n",
       "  </tbody>\n",
       "</table>\n",
       "</div>"
      ],
      "text/plain": [
       "        DATE  Collisions  INJURIES\n",
       "0 2013-12-31         464       122\n",
       "1 2014-01-01         399       165"
      ]
     },
     "execution_count": 126,
     "metadata": {},
     "output_type": "execute_result"
    }
   ],
   "source": [
    "collisions_and_injuries = pd.merge(total_collisions, total_injuries, on=\"DATE\")\n",
    "collisions_and_injuries.head(2)"
   ]
  },
  {
   "cell_type": "code",
   "execution_count": 123,
   "metadata": {},
   "outputs": [],
   "source": [
    "#collisions_and_injuries = collisions_and_injuries.reset_index()\n",
    "#collisions_and_injuries.head(2)"
   ]
  },
  {
   "cell_type": "code",
   "execution_count": 124,
   "metadata": {},
   "outputs": [
    {
     "data": {
      "text/plain": [
       "DATE          datetime64[ns]\n",
       "Collisions             int64\n",
       "INJURIES               int64\n",
       "dtype: object"
      ]
     },
     "execution_count": 124,
     "metadata": {},
     "output_type": "execute_result"
    }
   ],
   "source": [
    "collisions_and_injuries.dtypes"
   ]
  },
  {
   "cell_type": "code",
   "execution_count": 125,
   "metadata": {},
   "outputs": [
    {
     "data": {
      "text/html": [
       "<div>\n",
       "<style scoped>\n",
       "    .dataframe tbody tr th:only-of-type {\n",
       "        vertical-align: middle;\n",
       "    }\n",
       "\n",
       "    .dataframe tbody tr th {\n",
       "        vertical-align: top;\n",
       "    }\n",
       "\n",
       "    .dataframe thead th {\n",
       "        text-align: right;\n",
       "    }\n",
       "</style>\n",
       "<table border=\"1\" class=\"dataframe\">\n",
       "  <thead>\n",
       "    <tr style=\"text-align: right;\">\n",
       "      <th></th>\n",
       "      <th>DATE</th>\n",
       "      <th>Collisions</th>\n",
       "      <th>INJURIES</th>\n",
       "    </tr>\n",
       "  </thead>\n",
       "  <tbody>\n",
       "    <tr>\n",
       "      <th>0</th>\n",
       "      <td>2013-12-31</td>\n",
       "      <td>464</td>\n",
       "      <td>122</td>\n",
       "    </tr>\n",
       "    <tr>\n",
       "      <th>1</th>\n",
       "      <td>2014-01-01</td>\n",
       "      <td>399</td>\n",
       "      <td>165</td>\n",
       "    </tr>\n",
       "  </tbody>\n",
       "</table>\n",
       "</div>"
      ],
      "text/plain": [
       "        DATE  Collisions  INJURIES\n",
       "0 2013-12-31         464       122\n",
       "1 2014-01-01         399       165"
      ]
     },
     "execution_count": 125,
     "metadata": {},
     "output_type": "execute_result"
    }
   ],
   "source": [
    "collisions_and_injuries = collisions_and_injuries.sort_values('DATE', ascending=True)\n",
    "collisions_and_injuries.head(2)"
   ]
  },
  {
   "cell_type": "code",
   "execution_count": 128,
   "metadata": {},
   "outputs": [
    {
     "data": {
      "text/plain": [
       "<matplotlib.axes._subplots.AxesSubplot at 0x1bddc208>"
      ]
     },
     "execution_count": 128,
     "metadata": {},
     "output_type": "execute_result"
    },
    {
     "data": {
      "image/png": "[encoded data removed]",
      "text/plain": [
       "<Figure size 432x288 with 1 Axes>"
      ]
     },
     "metadata": {
      "needs_background": "light"
     },
     "output_type": "display_data"
    }
   ],
   "source": [
    "collisions_and_injuries.plot.line('DATE', 'Collisions',color='Black',grid=True,marker='o',title=(f'Total Collisions'))"
   ]
  },
  {
   "cell_type": "code",
   "execution_count": 129,
   "metadata": {},
   "outputs": [
    {
     "data": {
      "text/plain": [
       "<matplotlib.axes._subplots.AxesSubplot at 0x1be610b8>"
      ]
     },
     "execution_count": 129,
     "metadata": {},
     "output_type": "execute_result"
    },
    {
     "data": {
      "image/png": "[encoded data removed]",
      "text/plain": [
       "<Figure size 432x288 with 1 Axes>"
      ]
     },
     "metadata": {
      "needs_background": "light"
     },
     "output_type": "display_data"
    }
   ],
   "source": [
    "collisions_and_injuries.plot.line('DATE', 'INJURIES',color='Blue',grid=True,marker='o',title=(f'Total Injuries'))"
   ]
  },
  {
   "cell_type": "markdown",
   "metadata": {},
   "source": [
    "## If using matplotlib:"
   ]
  },
  {
   "cell_type": "code",
   "execution_count": 38,
   "metadata": {},
   "outputs": [],
   "source": [
    "# import matplotlib.pyplot as plt\n",
    "# import numpy as np\n",
    "# import matplotlib.dates as dates\n",
    "# %matplotlib inline"
   ]
  },
  {
   "cell_type": "code",
   "execution_count": null,
   "metadata": {},
   "outputs": [],
   "source": []
  }
 ],
 "metadata": {
  "kernelspec": {
   "display_name": "Python 3",
   "language": "python",
   "name": "python3"
  },
  "language_info": {
   "codemirror_mode": {
    "name": "ipython",
    "version": 3
   },
   "file_extension": ".py",
   "mimetype": "text/x-python",
   "name": "python",
   "nbconvert_exporter": "python",
   "pygments_lexer": "ipython3",
   "version": "3.7.2"
  }
 },
 "nbformat": 4,
 "nbformat_minor": 2
}
